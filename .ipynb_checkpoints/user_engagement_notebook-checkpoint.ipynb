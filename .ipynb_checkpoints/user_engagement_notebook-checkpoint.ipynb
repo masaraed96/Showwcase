{
 "cells": [
  {
   "cell_type": "markdown",
   "metadata": {},
   "source": [
    "<img src='images/showwcase.png'>"
   ]
  },
  {
   "cell_type": "markdown",
   "metadata": {},
   "source": [
    "**image via:** [Showwcase](https://www.showwcase.com/)"
   ]
  },
  {
   "cell_type": "markdown",
   "metadata": {},
   "source": [
    "<h1 style=\"color:#353A40U\">User Engagement Analysis - Data Analyst @ Showwcase</h1>"
   ]
  },
  {
   "cell_type": "markdown",
   "metadata": {},
   "source": [
    "- <a href=\"#import\">Import Libraries</a>\n",
    "\n",
    "- <a href=\"#gather\">Gathering Data</a>\n",
    "  \n",
    "- <a href=\"#assess\">Assessing Data </a>\n",
    "  \n",
    "  - <a href=\"#assess_summary\">Summary findings</a>\n",
    "  \n",
    "- <a href=\"#clean\">Cleaning Data</a>\n",
    "\n",
    "- <a href=\"#store\">Storing Cleaned Data</a>\n",
    "\n",
    "- <a href=\"#Visual\">Analyzing and Visualizing Data</a>"
   ]
  },
  {
   "cell_type": "markdown",
   "metadata": {},
   "source": [
    "<a id='import'></a>\n",
    "<hr>\n",
    "\n",
    "## Import Libraries"
   ]
  },
  {
   "cell_type": "code",
   "execution_count": 1,
   "metadata": {},
   "outputs": [],
   "source": [
    "#prerequisite package imports\n",
    "import pandas as pd\n",
    "import numpy as np\n",
    "import matplotlib.pyplot as plt\n",
    "import seaborn as sns\n",
    "import datetime\n",
    "import matplotlib.ticker as mtick\n",
    "import calendar\n",
    "from IPython.display import display, HTML\n",
    "%matplotlib inline"
   ]
  },
  {
   "cell_type": "markdown",
   "metadata": {},
   "source": [
    "<a id='gather'></a>\n",
    "<hr>\n",
    "\n",
    "## Gathering Data\n"
   ]
  },
  {
   "cell_type": "code",
   "execution_count": 2,
   "metadata": {},
   "outputs": [
    {
     "data": {
      "text/html": [
       "<div>\n",
       "<style scoped>\n",
       "    .dataframe tbody tr th:only-of-type {\n",
       "        vertical-align: middle;\n",
       "    }\n",
       "\n",
       "    .dataframe tbody tr th {\n",
       "        vertical-align: top;\n",
       "    }\n",
       "\n",
       "    .dataframe thead th {\n",
       "        text-align: right;\n",
       "    }\n",
       "</style>\n",
       "<table border=\"1\" class=\"dataframe\">\n",
       "  <thead>\n",
       "    <tr style=\"text-align: right;\">\n",
       "      <th></th>\n",
       "      <th>session_id</th>\n",
       "      <th>customer_id</th>\n",
       "      <th>login_date</th>\n",
       "      <th>projects_added</th>\n",
       "      <th>likes_given</th>\n",
       "      <th>comment_given</th>\n",
       "      <th>inactive_status</th>\n",
       "      <th>bug_occured</th>\n",
       "      <th>session_projects_added</th>\n",
       "      <th>session_likes_given</th>\n",
       "      <th>session_comments_given</th>\n",
       "      <th>inactive_duration</th>\n",
       "      <th>bugs_in_session</th>\n",
       "      <th>session_duration</th>\n",
       "    </tr>\n",
       "  </thead>\n",
       "  <tbody>\n",
       "    <tr>\n",
       "      <th>170</th>\n",
       "      <td>574792.0</td>\n",
       "      <td>29375.0</td>\n",
       "      <td>10/13/19</td>\n",
       "      <td>True</td>\n",
       "      <td>True</td>\n",
       "      <td>True</td>\n",
       "      <td>True</td>\n",
       "      <td>True</td>\n",
       "      <td>1.0</td>\n",
       "      <td>16.0</td>\n",
       "      <td>4.0</td>\n",
       "      <td>220.0</td>\n",
       "      <td>2.0</td>\n",
       "      <td>2333.0</td>\n",
       "    </tr>\n",
       "    <tr>\n",
       "      <th>294</th>\n",
       "      <td>183387.0</td>\n",
       "      <td>29375.0</td>\n",
       "      <td>10/1/19</td>\n",
       "      <td>True</td>\n",
       "      <td>False</td>\n",
       "      <td>False</td>\n",
       "      <td>True</td>\n",
       "      <td>False</td>\n",
       "      <td>2.0</td>\n",
       "      <td>0.0</td>\n",
       "      <td>0.0</td>\n",
       "      <td>518.0</td>\n",
       "      <td>0.0</td>\n",
       "      <td>2140.0</td>\n",
       "    </tr>\n",
       "    <tr>\n",
       "      <th>8</th>\n",
       "      <td>490096.0</td>\n",
       "      <td>40572.0</td>\n",
       "      <td>10/30/19</td>\n",
       "      <td>True</td>\n",
       "      <td>True</td>\n",
       "      <td>False</td>\n",
       "      <td>False</td>\n",
       "      <td>False</td>\n",
       "      <td>1.0</td>\n",
       "      <td>25.0</td>\n",
       "      <td>0.0</td>\n",
       "      <td>0.0</td>\n",
       "      <td>0.0</td>\n",
       "      <td>290.0</td>\n",
       "    </tr>\n",
       "    <tr>\n",
       "      <th>104</th>\n",
       "      <td>243101.0</td>\n",
       "      <td>29375.0</td>\n",
       "      <td>10/20/19</td>\n",
       "      <td>False</td>\n",
       "      <td>False</td>\n",
       "      <td>False</td>\n",
       "      <td>True</td>\n",
       "      <td>True</td>\n",
       "      <td>0.0</td>\n",
       "      <td>0.0</td>\n",
       "      <td>0.0</td>\n",
       "      <td>1109.0</td>\n",
       "      <td>4.0</td>\n",
       "      <td>1115.0</td>\n",
       "    </tr>\n",
       "    <tr>\n",
       "      <th>17</th>\n",
       "      <td>889461.0</td>\n",
       "      <td>73524.0</td>\n",
       "      <td>10/28/19</td>\n",
       "      <td>True</td>\n",
       "      <td>True</td>\n",
       "      <td>True</td>\n",
       "      <td>True</td>\n",
       "      <td>False</td>\n",
       "      <td>3.0</td>\n",
       "      <td>10.0</td>\n",
       "      <td>1.0</td>\n",
       "      <td>703.0</td>\n",
       "      <td>0.0</td>\n",
       "      <td>61.0</td>\n",
       "    </tr>\n",
       "    <tr>\n",
       "      <th>54</th>\n",
       "      <td>309053.0</td>\n",
       "      <td>32047.0</td>\n",
       "      <td>10/26/19</td>\n",
       "      <td>False</td>\n",
       "      <td>True</td>\n",
       "      <td>False</td>\n",
       "      <td>True</td>\n",
       "      <td>False</td>\n",
       "      <td>0.0</td>\n",
       "      <td>11.0</td>\n",
       "      <td>0.0</td>\n",
       "      <td>360.0</td>\n",
       "      <td>0.0</td>\n",
       "      <td>1492.0</td>\n",
       "    </tr>\n",
       "    <tr>\n",
       "      <th>69</th>\n",
       "      <td>854620.0</td>\n",
       "      <td>73524.0</td>\n",
       "      <td>10/24/19</td>\n",
       "      <td>True</td>\n",
       "      <td>False</td>\n",
       "      <td>True</td>\n",
       "      <td>True</td>\n",
       "      <td>True</td>\n",
       "      <td>5.0</td>\n",
       "      <td>0.0</td>\n",
       "      <td>1.0</td>\n",
       "      <td>1281.0</td>\n",
       "      <td>3.0</td>\n",
       "      <td>144.0</td>\n",
       "    </tr>\n",
       "    <tr>\n",
       "      <th>158</th>\n",
       "      <td>883587.0</td>\n",
       "      <td>23404.0</td>\n",
       "      <td>10/15/19</td>\n",
       "      <td>True</td>\n",
       "      <td>False</td>\n",
       "      <td>True</td>\n",
       "      <td>False</td>\n",
       "      <td>False</td>\n",
       "      <td>2.0</td>\n",
       "      <td>0.0</td>\n",
       "      <td>2.0</td>\n",
       "      <td>0.0</td>\n",
       "      <td>0.0</td>\n",
       "      <td>1138.0</td>\n",
       "    </tr>\n",
       "    <tr>\n",
       "      <th>46</th>\n",
       "      <td>999480.0</td>\n",
       "      <td>23083.0</td>\n",
       "      <td>10/26/19</td>\n",
       "      <td>False</td>\n",
       "      <td>False</td>\n",
       "      <td>True</td>\n",
       "      <td>True</td>\n",
       "      <td>False</td>\n",
       "      <td>0.0</td>\n",
       "      <td>0.0</td>\n",
       "      <td>1.0</td>\n",
       "      <td>1535.0</td>\n",
       "      <td>0.0</td>\n",
       "      <td>695.0</td>\n",
       "    </tr>\n",
       "    <tr>\n",
       "      <th>194</th>\n",
       "      <td>889677.0</td>\n",
       "      <td>23404.0</td>\n",
       "      <td>10/11/19</td>\n",
       "      <td>True</td>\n",
       "      <td>True</td>\n",
       "      <td>True</td>\n",
       "      <td>True</td>\n",
       "      <td>True</td>\n",
       "      <td>1.0</td>\n",
       "      <td>1.0</td>\n",
       "      <td>4.0</td>\n",
       "      <td>1757.0</td>\n",
       "      <td>1.0</td>\n",
       "      <td>1408.0</td>\n",
       "    </tr>\n",
       "  </tbody>\n",
       "</table>\n",
       "</div>"
      ],
      "text/plain": [
       "     session_id  customer_id login_date projects_added likes_given  \\\n",
       "170    574792.0      29375.0   10/13/19           True        True   \n",
       "294    183387.0      29375.0    10/1/19           True       False   \n",
       "8      490096.0      40572.0   10/30/19           True        True   \n",
       "104    243101.0      29375.0   10/20/19          False       False   \n",
       "17     889461.0      73524.0   10/28/19           True        True   \n",
       "54     309053.0      32047.0   10/26/19          False        True   \n",
       "69     854620.0      73524.0   10/24/19           True       False   \n",
       "158    883587.0      23404.0   10/15/19           True       False   \n",
       "46     999480.0      23083.0   10/26/19          False       False   \n",
       "194    889677.0      23404.0   10/11/19           True        True   \n",
       "\n",
       "    comment_given inactive_status bug_occured  session_projects_added  \\\n",
       "170          True            True        True                     1.0   \n",
       "294         False            True       False                     2.0   \n",
       "8           False           False       False                     1.0   \n",
       "104         False            True        True                     0.0   \n",
       "17           True            True       False                     3.0   \n",
       "54          False            True       False                     0.0   \n",
       "69           True            True        True                     5.0   \n",
       "158          True           False       False                     2.0   \n",
       "46           True            True       False                     0.0   \n",
       "194          True            True        True                     1.0   \n",
       "\n",
       "     session_likes_given  session_comments_given  inactive_duration  \\\n",
       "170                 16.0                     4.0              220.0   \n",
       "294                  0.0                     0.0              518.0   \n",
       "8                   25.0                     0.0                0.0   \n",
       "104                  0.0                     0.0             1109.0   \n",
       "17                  10.0                     1.0              703.0   \n",
       "54                  11.0                     0.0              360.0   \n",
       "69                   0.0                     1.0             1281.0   \n",
       "158                  0.0                     2.0                0.0   \n",
       "46                   0.0                     1.0             1535.0   \n",
       "194                  1.0                     4.0             1757.0   \n",
       "\n",
       "     bugs_in_session  session_duration  \n",
       "170              2.0            2333.0  \n",
       "294              0.0            2140.0  \n",
       "8                0.0             290.0  \n",
       "104              4.0            1115.0  \n",
       "17               0.0              61.0  \n",
       "54               0.0            1492.0  \n",
       "69               3.0             144.0  \n",
       "158              0.0            1138.0  \n",
       "46               0.0             695.0  \n",
       "194              1.0            1408.0  "
      ]
     },
     "execution_count": 2,
     "metadata": {},
     "output_type": "execute_result"
    }
   ],
   "source": [
    "#import data from the csv file\n",
    "showwcase_original = pd.read_csv('Data/showwcase_sessions.csv')\n",
    "showwcase_original.sample(10)"
   ]
  },
  {
   "cell_type": "markdown",
   "metadata": {},
   "source": [
    "<a id='assess'></a>\n",
    "<hr>\n",
    "\n",
    "## Assessing Data"
   ]
  },
  {
   "cell_type": "code",
   "execution_count": 3,
   "metadata": {},
   "outputs": [
    {
     "name": "stdout",
     "output_type": "stream",
     "text": [
      "<class 'pandas.core.frame.DataFrame'>\n",
      "RangeIndex: 302 entries, 0 to 301\n",
      "Data columns (total 14 columns):\n",
      " #   Column                  Non-Null Count  Dtype  \n",
      "---  ------                  --------------  -----  \n",
      " 0   session_id              300 non-null    float64\n",
      " 1   customer_id             300 non-null    float64\n",
      " 2   login_date              300 non-null    object \n",
      " 3   projects_added          300 non-null    object \n",
      " 4   likes_given             300 non-null    object \n",
      " 5   comment_given           300 non-null    object \n",
      " 6   inactive_status         300 non-null    object \n",
      " 7   bug_occured             300 non-null    object \n",
      " 8   session_projects_added  300 non-null    float64\n",
      " 9   session_likes_given     299 non-null    float64\n",
      " 10  session_comments_given  300 non-null    float64\n",
      " 11  inactive_duration       300 non-null    float64\n",
      " 12  bugs_in_session         300 non-null    float64\n",
      " 13  session_duration        300 non-null    float64\n",
      "dtypes: float64(8), object(6)\n",
      "memory usage: 33.2+ KB\n"
     ]
    }
   ],
   "source": [
    "showwcase_original.info()"
   ]
  },
  {
   "cell_type": "code",
   "execution_count": 4,
   "metadata": {},
   "outputs": [
    {
     "data": {
      "text/html": [
       "<div>\n",
       "<style scoped>\n",
       "    .dataframe tbody tr th:only-of-type {\n",
       "        vertical-align: middle;\n",
       "    }\n",
       "\n",
       "    .dataframe tbody tr th {\n",
       "        vertical-align: top;\n",
       "    }\n",
       "\n",
       "    .dataframe thead th {\n",
       "        text-align: right;\n",
       "    }\n",
       "</style>\n",
       "<table border=\"1\" class=\"dataframe\">\n",
       "  <thead>\n",
       "    <tr style=\"text-align: right;\">\n",
       "      <th></th>\n",
       "      <th>session_id</th>\n",
       "      <th>customer_id</th>\n",
       "      <th>session_projects_added</th>\n",
       "      <th>session_likes_given</th>\n",
       "      <th>session_comments_given</th>\n",
       "      <th>inactive_duration</th>\n",
       "      <th>bugs_in_session</th>\n",
       "      <th>session_duration</th>\n",
       "    </tr>\n",
       "  </thead>\n",
       "  <tbody>\n",
       "    <tr>\n",
       "      <th>count</th>\n",
       "      <td>300.000000</td>\n",
       "      <td>300.000000</td>\n",
       "      <td>300.000000</td>\n",
       "      <td>299.000000</td>\n",
       "      <td>300.000000</td>\n",
       "      <td>300.000000</td>\n",
       "      <td>300.000000</td>\n",
       "      <td>300.000000</td>\n",
       "    </tr>\n",
       "    <tr>\n",
       "      <th>mean</th>\n",
       "      <td>530643.296667</td>\n",
       "      <td>44956.766667</td>\n",
       "      <td>1.620000</td>\n",
       "      <td>10.458194</td>\n",
       "      <td>2.406667</td>\n",
       "      <td>732.933333</td>\n",
       "      <td>1.233333</td>\n",
       "      <td>1186.763333</td>\n",
       "    </tr>\n",
       "    <tr>\n",
       "      <th>std</th>\n",
       "      <td>280421.371240</td>\n",
       "      <td>26411.336491</td>\n",
       "      <td>1.334743</td>\n",
       "      <td>9.474839</td>\n",
       "      <td>2.247545</td>\n",
       "      <td>838.143032</td>\n",
       "      <td>1.757608</td>\n",
       "      <td>688.632138</td>\n",
       "    </tr>\n",
       "    <tr>\n",
       "      <th>min</th>\n",
       "      <td>22885.000000</td>\n",
       "      <td>10246.000000</td>\n",
       "      <td>0.000000</td>\n",
       "      <td>0.000000</td>\n",
       "      <td>0.000000</td>\n",
       "      <td>0.000000</td>\n",
       "      <td>0.000000</td>\n",
       "      <td>10.000000</td>\n",
       "    </tr>\n",
       "    <tr>\n",
       "      <th>25%</th>\n",
       "      <td>308358.000000</td>\n",
       "      <td>23571.250000</td>\n",
       "      <td>1.000000</td>\n",
       "      <td>0.000000</td>\n",
       "      <td>0.750000</td>\n",
       "      <td>0.000000</td>\n",
       "      <td>0.000000</td>\n",
       "      <td>611.250000</td>\n",
       "    </tr>\n",
       "    <tr>\n",
       "      <th>50%</th>\n",
       "      <td>553675.000000</td>\n",
       "      <td>38967.000000</td>\n",
       "      <td>2.000000</td>\n",
       "      <td>9.000000</td>\n",
       "      <td>2.000000</td>\n",
       "      <td>313.500000</td>\n",
       "      <td>0.000000</td>\n",
       "      <td>1152.000000</td>\n",
       "    </tr>\n",
       "    <tr>\n",
       "      <th>75%</th>\n",
       "      <td>804120.250000</td>\n",
       "      <td>73245.000000</td>\n",
       "      <td>3.000000</td>\n",
       "      <td>19.000000</td>\n",
       "      <td>4.000000</td>\n",
       "      <td>1524.750000</td>\n",
       "      <td>2.250000</td>\n",
       "      <td>1778.000000</td>\n",
       "    </tr>\n",
       "    <tr>\n",
       "      <th>max</th>\n",
       "      <td>999480.000000</td>\n",
       "      <td>98653.000000</td>\n",
       "      <td>9.000000</td>\n",
       "      <td>27.000000</td>\n",
       "      <td>21.000000</td>\n",
       "      <td>2480.000000</td>\n",
       "      <td>5.000000</td>\n",
       "      <td>2395.000000</td>\n",
       "    </tr>\n",
       "  </tbody>\n",
       "</table>\n",
       "</div>"
      ],
      "text/plain": [
       "          session_id   customer_id  session_projects_added  \\\n",
       "count     300.000000    300.000000              300.000000   \n",
       "mean   530643.296667  44956.766667                1.620000   \n",
       "std    280421.371240  26411.336491                1.334743   \n",
       "min     22885.000000  10246.000000                0.000000   \n",
       "25%    308358.000000  23571.250000                1.000000   \n",
       "50%    553675.000000  38967.000000                2.000000   \n",
       "75%    804120.250000  73245.000000                3.000000   \n",
       "max    999480.000000  98653.000000                9.000000   \n",
       "\n",
       "       session_likes_given  session_comments_given  inactive_duration  \\\n",
       "count           299.000000              300.000000         300.000000   \n",
       "mean             10.458194                2.406667         732.933333   \n",
       "std               9.474839                2.247545         838.143032   \n",
       "min               0.000000                0.000000           0.000000   \n",
       "25%               0.000000                0.750000           0.000000   \n",
       "50%               9.000000                2.000000         313.500000   \n",
       "75%              19.000000                4.000000        1524.750000   \n",
       "max              27.000000               21.000000        2480.000000   \n",
       "\n",
       "       bugs_in_session  session_duration  \n",
       "count       300.000000        300.000000  \n",
       "mean          1.233333       1186.763333  \n",
       "std           1.757608        688.632138  \n",
       "min           0.000000         10.000000  \n",
       "25%           0.000000        611.250000  \n",
       "50%           0.000000       1152.000000  \n",
       "75%           2.250000       1778.000000  \n",
       "max           5.000000       2395.000000  "
      ]
     },
     "execution_count": 4,
     "metadata": {},
     "output_type": "execute_result"
    }
   ],
   "source": [
    "showwcase_original.describe()"
   ]
  },
  {
   "cell_type": "code",
   "execution_count": 5,
   "metadata": {},
   "outputs": [
    {
     "name": "stdout",
     "output_type": "stream",
     "text": [
      "number of unique sessions:300\n"
     ]
    }
   ],
   "source": [
    "print(f\"number of unique sessions:{showwcase_original.session_id.nunique()}\")"
   ]
  },
  {
   "cell_type": "code",
   "execution_count": 6,
   "metadata": {},
   "outputs": [
    {
     "data": {
      "text/html": [
       "<div>\n",
       "<style scoped>\n",
       "    .dataframe tbody tr th:only-of-type {\n",
       "        vertical-align: middle;\n",
       "    }\n",
       "\n",
       "    .dataframe tbody tr th {\n",
       "        vertical-align: top;\n",
       "    }\n",
       "\n",
       "    .dataframe thead th {\n",
       "        text-align: right;\n",
       "    }\n",
       "</style>\n",
       "<table border=\"1\" class=\"dataframe\">\n",
       "  <thead>\n",
       "    <tr style=\"text-align: right;\">\n",
       "      <th></th>\n",
       "      <th>session_id</th>\n",
       "      <th>customer_id</th>\n",
       "      <th>login_date</th>\n",
       "      <th>projects_added</th>\n",
       "      <th>likes_given</th>\n",
       "      <th>comment_given</th>\n",
       "      <th>inactive_status</th>\n",
       "      <th>bug_occured</th>\n",
       "      <th>session_projects_added</th>\n",
       "      <th>session_likes_given</th>\n",
       "      <th>session_comments_given</th>\n",
       "      <th>inactive_duration</th>\n",
       "      <th>bugs_in_session</th>\n",
       "      <th>session_duration</th>\n",
       "    </tr>\n",
       "  </thead>\n",
       "  <tbody>\n",
       "    <tr>\n",
       "      <th>35</th>\n",
       "      <td>862128.0</td>\n",
       "      <td>23404.0</td>\n",
       "      <td>10/26/19</td>\n",
       "      <td>True</td>\n",
       "      <td>False</td>\n",
       "      <td>True</td>\n",
       "      <td>True</td>\n",
       "      <td>False</td>\n",
       "      <td>2.0</td>\n",
       "      <td>NaN</td>\n",
       "      <td>2.0</td>\n",
       "      <td>1120.0</td>\n",
       "      <td>0.0</td>\n",
       "      <td>95.0</td>\n",
       "    </tr>\n",
       "    <tr>\n",
       "      <th>300</th>\n",
       "      <td>NaN</td>\n",
       "      <td>NaN</td>\n",
       "      <td>NaN</td>\n",
       "      <td>NaN</td>\n",
       "      <td>NaN</td>\n",
       "      <td>NaN</td>\n",
       "      <td>NaN</td>\n",
       "      <td>NaN</td>\n",
       "      <td>NaN</td>\n",
       "      <td>NaN</td>\n",
       "      <td>NaN</td>\n",
       "      <td>NaN</td>\n",
       "      <td>NaN</td>\n",
       "      <td>NaN</td>\n",
       "    </tr>\n",
       "    <tr>\n",
       "      <th>301</th>\n",
       "      <td>NaN</td>\n",
       "      <td>NaN</td>\n",
       "      <td>NaN</td>\n",
       "      <td>NaN</td>\n",
       "      <td>NaN</td>\n",
       "      <td>NaN</td>\n",
       "      <td>NaN</td>\n",
       "      <td>NaN</td>\n",
       "      <td>NaN</td>\n",
       "      <td>NaN</td>\n",
       "      <td>NaN</td>\n",
       "      <td>NaN</td>\n",
       "      <td>NaN</td>\n",
       "      <td>NaN</td>\n",
       "    </tr>\n",
       "  </tbody>\n",
       "</table>\n",
       "</div>"
      ],
      "text/plain": [
       "     session_id  customer_id login_date projects_added likes_given  \\\n",
       "35     862128.0      23404.0   10/26/19           True       False   \n",
       "300         NaN          NaN        NaN            NaN         NaN   \n",
       "301         NaN          NaN        NaN            NaN         NaN   \n",
       "\n",
       "    comment_given inactive_status bug_occured  session_projects_added  \\\n",
       "35           True            True       False                     2.0   \n",
       "300           NaN             NaN         NaN                     NaN   \n",
       "301           NaN             NaN         NaN                     NaN   \n",
       "\n",
       "     session_likes_given  session_comments_given  inactive_duration  \\\n",
       "35                   NaN                     2.0             1120.0   \n",
       "300                  NaN                     NaN                NaN   \n",
       "301                  NaN                     NaN                NaN   \n",
       "\n",
       "     bugs_in_session  session_duration  \n",
       "35               0.0              95.0  \n",
       "300              NaN               NaN  \n",
       "301              NaN               NaN  "
      ]
     },
     "execution_count": 6,
     "metadata": {},
     "output_type": "execute_result"
    }
   ],
   "source": [
    "#checking rows with NaN session_likes_given\n",
    "showwcase_original[showwcase_original.session_likes_given.isna()]"
   ]
  },
  {
   "cell_type": "code",
   "execution_count": 7,
   "metadata": {},
   "outputs": [
    {
     "data": {
      "text/plain": [
       "True     213\n",
       "False      1\n",
       "Name: likes_given, dtype: int64"
      ]
     },
     "execution_count": 7,
     "metadata": {},
     "output_type": "execute_result"
    }
   ],
   "source": [
    "#check for incosistency between likes_given and session_likes_given\n",
    "showwcase_original[(showwcase_original.session_likes_given != 0)].likes_given.value_counts()"
   ]
  },
  {
   "cell_type": "code",
   "execution_count": 8,
   "metadata": {},
   "outputs": [
    {
     "data": {
      "text/plain": [
       "True    225\n",
       "Name: comment_given, dtype: int64"
      ]
     },
     "execution_count": 8,
     "metadata": {},
     "output_type": "execute_result"
    }
   ],
   "source": [
    "#check for incosistency between comment_given and session_comments_given\n",
    "showwcase_original[(showwcase_original.session_comments_given != 0)].comment_given.value_counts()"
   ]
  },
  {
   "cell_type": "code",
   "execution_count": 9,
   "metadata": {},
   "outputs": [
    {
     "data": {
      "text/plain": [
       "True    116\n",
       "Name: bug_occured, dtype: int64"
      ]
     },
     "execution_count": 9,
     "metadata": {},
     "output_type": "execute_result"
    }
   ],
   "source": [
    "#check for incosistency between bug_occured and bugs_in_session\n",
    "showwcase_original[(showwcase_original.bugs_in_session != 0)].bug_occured.value_counts()"
   ]
  },
  {
   "cell_type": "code",
   "execution_count": 10,
   "metadata": {
    "scrolled": true
   },
   "outputs": [
    {
     "data": {
      "text/plain": [
       "True    227\n",
       "Name: projects_added, dtype: int64"
      ]
     },
     "execution_count": 10,
     "metadata": {},
     "output_type": "execute_result"
    }
   ],
   "source": [
    "#check for incosistency between projects_added and session_projects_added\n",
    "showwcase_original[(showwcase_original.session_projects_added != 0)].projects_added.value_counts()"
   ]
  },
  {
   "cell_type": "code",
   "execution_count": 11,
   "metadata": {
    "scrolled": true
   },
   "outputs": [
    {
     "data": {
      "text/plain": [
       "True    172\n",
       "Name: inactive_status, dtype: int64"
      ]
     },
     "execution_count": 11,
     "metadata": {},
     "output_type": "execute_result"
    }
   ],
   "source": [
    "#check for incosistency between inactive_status and inactive_duration\n",
    "showwcase_original[(showwcase_original.inactive_duration != 0)].inactive_status.value_counts()"
   ]
  },
  {
   "cell_type": "markdown",
   "metadata": {},
   "source": [
    "<a id='assess_summary'></a>\n",
    "### `Summery of Assessing`\n",
    "-  Columns types are not right\n",
    "- 2 NaN in `login_date`\n",
    "- 2 NaN in `session_id` and `customer_id`\n",
    "- 2 NaN in `session_projects_added`\n",
    "- 3 NaN `session_likes_given`\n",
    "- 2 NaN in `session_comments_given`\n",
    "- <font style=\"color:green\">All integer columns' values are >= 0, That's reasonable</font>\n",
    "- Row #35 has contradiction in columns <font style=\"color:red\"> `likes_given` = False while `session_likes_given` != 0</font>, probably the NaN value seen above\n",
    "- Redudanancy having boolean columns `projects_added`, `likes_given`, `comment_given`, `inactive_status`and `bug_occured` while their information can be calculated easily when needed from columns `session_projects_added`, `session_likes_given`, `session_comments_given`, `inactive_duration`and `bugs_in_session` consecutively\n",
    "- column names inconsistent"
   ]
  },
  {
   "cell_type": "markdown",
   "metadata": {},
   "source": [
    "<a id='clean'></a>\n",
    "<hr>\n",
    "\n",
    "## Cleaning Data"
   ]
  },
  {
   "cell_type": "markdown",
   "metadata": {},
   "source": [
    "In the following part, the three following steps are followed in order to clean each issue, these steps are: <br>\n",
    "`1.` Define <br>\n",
    "`2.` Code <br>\n",
    "`3.` Test <br>\n",
    "\n",
    "But First of all, Let's keep the original Dataset untouched and do all our cleaninng on a copy of the dataset."
   ]
  },
  {
   "cell_type": "code",
   "execution_count": 12,
   "metadata": {},
   "outputs": [],
   "source": [
    "#create a copy of the original dataframe\n",
    "showwcase_df = showwcase_original.copy()"
   ]
  },
  {
   "cell_type": "markdown",
   "metadata": {},
   "source": [
    "<hr>\n",
    "\n",
    "#### `1` Define\n",
    "From the info() function, we could see that dataset has 302 rows but every column has at max 300 value.<br>\n",
    "It looks like there're 2 empty rows but let's double check"
   ]
  },
  {
   "cell_type": "code",
   "execution_count": 13,
   "metadata": {},
   "outputs": [
    {
     "data": {
      "text/html": [
       "<div>\n",
       "<style scoped>\n",
       "    .dataframe tbody tr th:only-of-type {\n",
       "        vertical-align: middle;\n",
       "    }\n",
       "\n",
       "    .dataframe tbody tr th {\n",
       "        vertical-align: top;\n",
       "    }\n",
       "\n",
       "    .dataframe thead th {\n",
       "        text-align: right;\n",
       "    }\n",
       "</style>\n",
       "<table border=\"1\" class=\"dataframe\">\n",
       "  <thead>\n",
       "    <tr style=\"text-align: right;\">\n",
       "      <th></th>\n",
       "      <th>session_id</th>\n",
       "      <th>customer_id</th>\n",
       "      <th>login_date</th>\n",
       "      <th>projects_added</th>\n",
       "      <th>likes_given</th>\n",
       "      <th>comment_given</th>\n",
       "      <th>inactive_status</th>\n",
       "      <th>bug_occured</th>\n",
       "      <th>session_projects_added</th>\n",
       "      <th>session_likes_given</th>\n",
       "      <th>session_comments_given</th>\n",
       "      <th>inactive_duration</th>\n",
       "      <th>bugs_in_session</th>\n",
       "      <th>session_duration</th>\n",
       "    </tr>\n",
       "  </thead>\n",
       "  <tbody>\n",
       "    <tr>\n",
       "      <th>300</th>\n",
       "      <td>NaN</td>\n",
       "      <td>NaN</td>\n",
       "      <td>NaN</td>\n",
       "      <td>NaN</td>\n",
       "      <td>NaN</td>\n",
       "      <td>NaN</td>\n",
       "      <td>NaN</td>\n",
       "      <td>NaN</td>\n",
       "      <td>NaN</td>\n",
       "      <td>NaN</td>\n",
       "      <td>NaN</td>\n",
       "      <td>NaN</td>\n",
       "      <td>NaN</td>\n",
       "      <td>NaN</td>\n",
       "    </tr>\n",
       "    <tr>\n",
       "      <th>301</th>\n",
       "      <td>NaN</td>\n",
       "      <td>NaN</td>\n",
       "      <td>NaN</td>\n",
       "      <td>NaN</td>\n",
       "      <td>NaN</td>\n",
       "      <td>NaN</td>\n",
       "      <td>NaN</td>\n",
       "      <td>NaN</td>\n",
       "      <td>NaN</td>\n",
       "      <td>NaN</td>\n",
       "      <td>NaN</td>\n",
       "      <td>NaN</td>\n",
       "      <td>NaN</td>\n",
       "      <td>NaN</td>\n",
       "    </tr>\n",
       "  </tbody>\n",
       "</table>\n",
       "</div>"
      ],
      "text/plain": [
       "     session_id  customer_id login_date projects_added likes_given  \\\n",
       "300         NaN          NaN        NaN            NaN         NaN   \n",
       "301         NaN          NaN        NaN            NaN         NaN   \n",
       "\n",
       "    comment_given inactive_status bug_occured  session_projects_added  \\\n",
       "300           NaN             NaN         NaN                     NaN   \n",
       "301           NaN             NaN         NaN                     NaN   \n",
       "\n",
       "     session_likes_given  session_comments_given  inactive_duration  \\\n",
       "300                  NaN                     NaN                NaN   \n",
       "301                  NaN                     NaN                NaN   \n",
       "\n",
       "     bugs_in_session  session_duration  \n",
       "300              NaN               NaN  \n",
       "301              NaN               NaN  "
      ]
     },
     "execution_count": 13,
     "metadata": {},
     "output_type": "execute_result"
    }
   ],
   "source": [
    "showwcase_df[showwcase_df.isna().all(1)]"
   ]
  },
  {
   "cell_type": "markdown",
   "metadata": {},
   "source": [
    "This maybe a data integrity issue, althought `projects_added`, `likes_given`, `comment_given`, `inactive_status` and `bug occured` = True<br>\n",
    "But `seesion_id` and `customer_id` and `everything` else = NaN <br>\n",
    "My Solution is to drop these two rows. "
   ]
  },
  {
   "cell_type": "markdown",
   "metadata": {},
   "source": [
    "#### `2` Code\n",
    "\n"
   ]
  },
  {
   "cell_type": "code",
   "execution_count": 14,
   "metadata": {},
   "outputs": [],
   "source": [
    "#keeping everything except the empty rows\n",
    "showwcase_df = showwcase_df[~showwcase_df.isna().all(1)]"
   ]
  },
  {
   "cell_type": "markdown",
   "metadata": {},
   "source": [
    "#### `3` Test"
   ]
  },
  {
   "cell_type": "code",
   "execution_count": 15,
   "metadata": {},
   "outputs": [
    {
     "data": {
      "text/html": [
       "<div>\n",
       "<style scoped>\n",
       "    .dataframe tbody tr th:only-of-type {\n",
       "        vertical-align: middle;\n",
       "    }\n",
       "\n",
       "    .dataframe tbody tr th {\n",
       "        vertical-align: top;\n",
       "    }\n",
       "\n",
       "    .dataframe thead th {\n",
       "        text-align: right;\n",
       "    }\n",
       "</style>\n",
       "<table border=\"1\" class=\"dataframe\">\n",
       "  <thead>\n",
       "    <tr style=\"text-align: right;\">\n",
       "      <th></th>\n",
       "      <th>session_id</th>\n",
       "      <th>customer_id</th>\n",
       "      <th>login_date</th>\n",
       "      <th>projects_added</th>\n",
       "      <th>likes_given</th>\n",
       "      <th>comment_given</th>\n",
       "      <th>inactive_status</th>\n",
       "      <th>bug_occured</th>\n",
       "      <th>session_projects_added</th>\n",
       "      <th>session_likes_given</th>\n",
       "      <th>session_comments_given</th>\n",
       "      <th>inactive_duration</th>\n",
       "      <th>bugs_in_session</th>\n",
       "      <th>session_duration</th>\n",
       "    </tr>\n",
       "  </thead>\n",
       "  <tbody>\n",
       "  </tbody>\n",
       "</table>\n",
       "</div>"
      ],
      "text/plain": [
       "Empty DataFrame\n",
       "Columns: [session_id, customer_id, login_date, projects_added, likes_given, comment_given, inactive_status, bug_occured, session_projects_added, session_likes_given, session_comments_given, inactive_duration, bugs_in_session, session_duration]\n",
       "Index: []"
      ]
     },
     "execution_count": 15,
     "metadata": {},
     "output_type": "execute_result"
    }
   ],
   "source": [
    "#checking if the empty rows are deleted\n",
    "showwcase_df[showwcase_df.isna().all(1)]"
   ]
  },
  {
   "cell_type": "markdown",
   "metadata": {},
   "source": [
    "<hr>\n",
    "\n",
    "#### `1` Define\n",
    "3 nulls in session_likes_given, we got rid of 2. But let's look at the reamaing one"
   ]
  },
  {
   "cell_type": "code",
   "execution_count": 16,
   "metadata": {
    "scrolled": true
   },
   "outputs": [
    {
     "data": {
      "text/html": [
       "<div>\n",
       "<style scoped>\n",
       "    .dataframe tbody tr th:only-of-type {\n",
       "        vertical-align: middle;\n",
       "    }\n",
       "\n",
       "    .dataframe tbody tr th {\n",
       "        vertical-align: top;\n",
       "    }\n",
       "\n",
       "    .dataframe thead th {\n",
       "        text-align: right;\n",
       "    }\n",
       "</style>\n",
       "<table border=\"1\" class=\"dataframe\">\n",
       "  <thead>\n",
       "    <tr style=\"text-align: right;\">\n",
       "      <th></th>\n",
       "      <th>session_id</th>\n",
       "      <th>customer_id</th>\n",
       "      <th>login_date</th>\n",
       "      <th>projects_added</th>\n",
       "      <th>likes_given</th>\n",
       "      <th>comment_given</th>\n",
       "      <th>inactive_status</th>\n",
       "      <th>bug_occured</th>\n",
       "      <th>session_projects_added</th>\n",
       "      <th>session_likes_given</th>\n",
       "      <th>session_comments_given</th>\n",
       "      <th>inactive_duration</th>\n",
       "      <th>bugs_in_session</th>\n",
       "      <th>session_duration</th>\n",
       "    </tr>\n",
       "  </thead>\n",
       "  <tbody>\n",
       "    <tr>\n",
       "      <th>35</th>\n",
       "      <td>862128.0</td>\n",
       "      <td>23404.0</td>\n",
       "      <td>10/26/19</td>\n",
       "      <td>True</td>\n",
       "      <td>False</td>\n",
       "      <td>True</td>\n",
       "      <td>True</td>\n",
       "      <td>False</td>\n",
       "      <td>2.0</td>\n",
       "      <td>NaN</td>\n",
       "      <td>2.0</td>\n",
       "      <td>1120.0</td>\n",
       "      <td>0.0</td>\n",
       "      <td>95.0</td>\n",
       "    </tr>\n",
       "  </tbody>\n",
       "</table>\n",
       "</div>"
      ],
      "text/plain": [
       "    session_id  customer_id login_date projects_added likes_given  \\\n",
       "35    862128.0      23404.0   10/26/19           True       False   \n",
       "\n",
       "   comment_given inactive_status bug_occured  session_projects_added  \\\n",
       "35          True            True       False                     2.0   \n",
       "\n",
       "    session_likes_given  session_comments_given  inactive_duration  \\\n",
       "35                  NaN                     2.0             1120.0   \n",
       "\n",
       "    bugs_in_session  session_duration  \n",
       "35              0.0              95.0  "
      ]
     },
     "execution_count": 16,
     "metadata": {},
     "output_type": "execute_result"
    }
   ],
   "source": [
    "showwcase_df[showwcase_df.session_likes_given.isna()]"
   ]
  },
  {
   "cell_type": "markdown",
   "metadata": {},
   "source": [
    "It looks like it's the same row that has the contradiction in the following line"
   ]
  },
  {
   "cell_type": "code",
   "execution_count": 17,
   "metadata": {},
   "outputs": [
    {
     "data": {
      "text/html": [
       "<div>\n",
       "<style scoped>\n",
       "    .dataframe tbody tr th:only-of-type {\n",
       "        vertical-align: middle;\n",
       "    }\n",
       "\n",
       "    .dataframe tbody tr th {\n",
       "        vertical-align: top;\n",
       "    }\n",
       "\n",
       "    .dataframe thead th {\n",
       "        text-align: right;\n",
       "    }\n",
       "</style>\n",
       "<table border=\"1\" class=\"dataframe\">\n",
       "  <thead>\n",
       "    <tr style=\"text-align: right;\">\n",
       "      <th></th>\n",
       "      <th>session_id</th>\n",
       "      <th>customer_id</th>\n",
       "      <th>login_date</th>\n",
       "      <th>projects_added</th>\n",
       "      <th>likes_given</th>\n",
       "      <th>comment_given</th>\n",
       "      <th>inactive_status</th>\n",
       "      <th>bug_occured</th>\n",
       "      <th>session_projects_added</th>\n",
       "      <th>session_likes_given</th>\n",
       "      <th>session_comments_given</th>\n",
       "      <th>inactive_duration</th>\n",
       "      <th>bugs_in_session</th>\n",
       "      <th>session_duration</th>\n",
       "    </tr>\n",
       "  </thead>\n",
       "  <tbody>\n",
       "    <tr>\n",
       "      <th>35</th>\n",
       "      <td>862128.0</td>\n",
       "      <td>23404.0</td>\n",
       "      <td>10/26/19</td>\n",
       "      <td>True</td>\n",
       "      <td>False</td>\n",
       "      <td>True</td>\n",
       "      <td>True</td>\n",
       "      <td>False</td>\n",
       "      <td>2.0</td>\n",
       "      <td>NaN</td>\n",
       "      <td>2.0</td>\n",
       "      <td>1120.0</td>\n",
       "      <td>0.0</td>\n",
       "      <td>95.0</td>\n",
       "    </tr>\n",
       "  </tbody>\n",
       "</table>\n",
       "</div>"
      ],
      "text/plain": [
       "    session_id  customer_id login_date projects_added likes_given  \\\n",
       "35    862128.0      23404.0   10/26/19           True       False   \n",
       "\n",
       "   comment_given inactive_status bug_occured  session_projects_added  \\\n",
       "35          True            True       False                     2.0   \n",
       "\n",
       "    session_likes_given  session_comments_given  inactive_duration  \\\n",
       "35                  NaN                     2.0             1120.0   \n",
       "\n",
       "    bugs_in_session  session_duration  \n",
       "35              0.0              95.0  "
      ]
     },
     "execution_count": 17,
     "metadata": {},
     "output_type": "execute_result"
    }
   ],
   "source": [
    "showwcase_df[(showwcase_df.session_likes_given!=0) & (showwcase_df.likes_given == False)]"
   ]
  },
  {
   "cell_type": "markdown",
   "metadata": {},
   "source": [
    "<font color=green> The NaN value can be replaced with 0, or it can be replaced with the mean value of session_likes. \n",
    "I choose to replace it with the mean value of seesion_likes in order to not miss the original mean value"
   ]
  },
  {
   "cell_type": "markdown",
   "metadata": {},
   "source": [
    "#### `2` Code\n"
   ]
  },
  {
   "cell_type": "code",
   "execution_count": 18,
   "metadata": {},
   "outputs": [
    {
     "name": "stdout",
     "output_type": "stream",
     "text": [
      "Mean value of Session likes before replacing the NaN value: 10.45819397993311\n"
     ]
    }
   ],
   "source": [
    "#original mean of session_likes\n",
    "session_likes_mean_before = showwcase_df.session_likes_given.mean()\n",
    "print(f\"Mean value of Session likes before replacing the NaN value: {session_likes_mean_before}\")"
   ]
  },
  {
   "cell_type": "code",
   "execution_count": 19,
   "metadata": {},
   "outputs": [],
   "source": [
    "showwcase_df.session_likes_given = showwcase_df.session_likes_given.replace(np.nan, session_likes_mean_before)"
   ]
  },
  {
   "cell_type": "markdown",
   "metadata": {},
   "source": [
    "#### `3` Test\n"
   ]
  },
  {
   "cell_type": "code",
   "execution_count": 20,
   "metadata": {},
   "outputs": [
    {
     "data": {
      "text/html": [
       "<div>\n",
       "<style scoped>\n",
       "    .dataframe tbody tr th:only-of-type {\n",
       "        vertical-align: middle;\n",
       "    }\n",
       "\n",
       "    .dataframe tbody tr th {\n",
       "        vertical-align: top;\n",
       "    }\n",
       "\n",
       "    .dataframe thead th {\n",
       "        text-align: right;\n",
       "    }\n",
       "</style>\n",
       "<table border=\"1\" class=\"dataframe\">\n",
       "  <thead>\n",
       "    <tr style=\"text-align: right;\">\n",
       "      <th></th>\n",
       "      <th>session_id</th>\n",
       "      <th>customer_id</th>\n",
       "      <th>login_date</th>\n",
       "      <th>projects_added</th>\n",
       "      <th>likes_given</th>\n",
       "      <th>comment_given</th>\n",
       "      <th>inactive_status</th>\n",
       "      <th>bug_occured</th>\n",
       "      <th>session_projects_added</th>\n",
       "      <th>session_likes_given</th>\n",
       "      <th>session_comments_given</th>\n",
       "      <th>inactive_duration</th>\n",
       "      <th>bugs_in_session</th>\n",
       "      <th>session_duration</th>\n",
       "    </tr>\n",
       "  </thead>\n",
       "  <tbody>\n",
       "  </tbody>\n",
       "</table>\n",
       "</div>"
      ],
      "text/plain": [
       "Empty DataFrame\n",
       "Columns: [session_id, customer_id, login_date, projects_added, likes_given, comment_given, inactive_status, bug_occured, session_projects_added, session_likes_given, session_comments_given, inactive_duration, bugs_in_session, session_duration]\n",
       "Index: []"
      ]
     },
     "execution_count": 20,
     "metadata": {},
     "output_type": "execute_result"
    }
   ],
   "source": [
    "#check if NaN value is still exist\n",
    "showwcase_df[showwcase_df.session_likes_given.isna()]"
   ]
  },
  {
   "cell_type": "code",
   "execution_count": 21,
   "metadata": {},
   "outputs": [
    {
     "name": "stdout",
     "output_type": "stream",
     "text": [
      "Mean value of Session likes after replacing the NaN value: 10.45819397993311\n"
     ]
    }
   ],
   "source": [
    "#mean of session_likes after\n",
    "session_likes_mean_after = showwcase_df.session_likes_given.mean()\n",
    "print(f\"Mean value of Session likes after replacing the NaN value: {session_likes_mean_after}\")"
   ]
  },
  {
   "cell_type": "markdown",
   "metadata": {},
   "source": [
    "<hr>\n",
    "\n",
    "#### `1` Define\n",
    "Drop the unnecessary columns these are: `projects_added`, `likes_given`, `comment_given`, `inactive_status`, `bug_occured` <br>\n",
    "The value of these columns can be calculated easily but checking their consecutive columns for values =0 or >0"
   ]
  },
  {
   "cell_type": "markdown",
   "metadata": {},
   "source": [
    "#### `2` Code"
   ]
  },
  {
   "cell_type": "code",
   "execution_count": 22,
   "metadata": {},
   "outputs": [],
   "source": [
    "showwcase_df = showwcase_df.drop(columns=['projects_added', 'likes_given', 'comment_given', 'inactive_status', 'bug_occured'], axis=1)"
   ]
  },
  {
   "cell_type": "markdown",
   "metadata": {},
   "source": [
    "#### `3` Test"
   ]
  },
  {
   "cell_type": "code",
   "execution_count": 23,
   "metadata": {
    "scrolled": true
   },
   "outputs": [
    {
     "data": {
      "text/plain": [
       "Index(['session_id', 'customer_id', 'login_date', 'session_projects_added',\n",
       "       'session_likes_given', 'session_comments_given', 'inactive_duration',\n",
       "       'bugs_in_session', 'session_duration'],\n",
       "      dtype='object')"
      ]
     },
     "execution_count": 23,
     "metadata": {},
     "output_type": "execute_result"
    }
   ],
   "source": [
    "showwcase_df.columns"
   ]
  },
  {
   "cell_type": "markdown",
   "metadata": {},
   "source": [
    "<hr>\n",
    "\n",
    "#### `1` Define\n",
    "Converting the remaining columns to their correct data types:\n",
    "- `session_id` and `customer_id` should be <font style=\"color:green\"><b>strings</font><font style=\"color:red\"> <b>not float</font>\n",
    "- `login_date` should be <font style=\"color:green\"><b>datetime</font> <font style=\"color:red\"><b>not string</font>\n",
    "- `session_projects_added`, `session_likes_given`, `session_comments_given`, `inactive_duration`, `bugs_in_session` and `session_duration` should be <font style=\"color:green\"><b>integers</font><font style=\"color:red\"> <b>not float</font>"
   ]
  },
  {
   "cell_type": "markdown",
   "metadata": {},
   "source": [
    "#### `2` Code"
   ]
  },
  {
   "cell_type": "code",
   "execution_count": 24,
   "metadata": {},
   "outputs": [],
   "source": [
    "#colummns changed to Strings\n",
    "showwcase_df.session_id = showwcase_df.session_id.astype(int).astype(str)\n",
    "showwcase_df.customer_id = showwcase_df.customer_id.astype(int).astype(str)"
   ]
  },
  {
   "cell_type": "code",
   "execution_count": 25,
   "metadata": {},
   "outputs": [],
   "source": [
    "#colummns changed to Datetime and sort the dates ascending order\n",
    "showwcase_df.login_date = pd.to_datetime(showwcase_df.login_date)\n",
    "showwcase_df.sort_values(by=['login_date'], inplace=True, ascending=True)"
   ]
  },
  {
   "cell_type": "code",
   "execution_count": 26,
   "metadata": {},
   "outputs": [],
   "source": [
    "#colummns changed to Integers\n",
    "showwcase_df.session_projects_added = showwcase_df.session_projects_added.astype(int)\n",
    "showwcase_df.session_likes_given = showwcase_df.session_likes_given.astype(int)\n",
    "showwcase_df.session_comments_given = showwcase_df.session_comments_given.astype(int)\n",
    "showwcase_df.inactive_duration = showwcase_df.inactive_duration.astype(int)\n",
    "showwcase_df.bugs_in_session = showwcase_df.bugs_in_session.astype(int)\n",
    "showwcase_df.session_duration = showwcase_df.session_duration.astype(int)"
   ]
  },
  {
   "cell_type": "markdown",
   "metadata": {},
   "source": [
    "#### `3` Test"
   ]
  },
  {
   "cell_type": "code",
   "execution_count": 27,
   "metadata": {},
   "outputs": [
    {
     "data": {
      "text/plain": [
       "session_id                        object\n",
       "customer_id                       object\n",
       "login_date                datetime64[ns]\n",
       "session_projects_added             int64\n",
       "session_likes_given                int64\n",
       "session_comments_given             int64\n",
       "inactive_duration                  int64\n",
       "bugs_in_session                    int64\n",
       "session_duration                   int64\n",
       "dtype: object"
      ]
     },
     "execution_count": 27,
     "metadata": {},
     "output_type": "execute_result"
    }
   ],
   "source": [
    "#checking the data types\n",
    "showwcase_df.dtypes"
   ]
  },
  {
   "cell_type": "markdown",
   "metadata": {},
   "source": [
    "Recheck the final look of the dataset:"
   ]
  },
  {
   "cell_type": "code",
   "execution_count": 28,
   "metadata": {},
   "outputs": [
    {
     "data": {
      "text/html": [
       "<div>\n",
       "<style scoped>\n",
       "    .dataframe tbody tr th:only-of-type {\n",
       "        vertical-align: middle;\n",
       "    }\n",
       "\n",
       "    .dataframe tbody tr th {\n",
       "        vertical-align: top;\n",
       "    }\n",
       "\n",
       "    .dataframe thead th {\n",
       "        text-align: right;\n",
       "    }\n",
       "</style>\n",
       "<table border=\"1\" class=\"dataframe\">\n",
       "  <thead>\n",
       "    <tr style=\"text-align: right;\">\n",
       "      <th></th>\n",
       "      <th>session_id</th>\n",
       "      <th>customer_id</th>\n",
       "      <th>login_date</th>\n",
       "      <th>session_projects_added</th>\n",
       "      <th>session_likes_given</th>\n",
       "      <th>session_comments_given</th>\n",
       "      <th>inactive_duration</th>\n",
       "      <th>bugs_in_session</th>\n",
       "      <th>session_duration</th>\n",
       "    </tr>\n",
       "  </thead>\n",
       "  <tbody>\n",
       "    <tr>\n",
       "      <th>299</th>\n",
       "      <td>933954</td>\n",
       "      <td>38459</td>\n",
       "      <td>2019-10-01</td>\n",
       "      <td>1</td>\n",
       "      <td>0</td>\n",
       "      <td>0</td>\n",
       "      <td>0</td>\n",
       "      <td>0</td>\n",
       "      <td>306</td>\n",
       "    </tr>\n",
       "    <tr>\n",
       "      <th>291</th>\n",
       "      <td>109787</td>\n",
       "      <td>43096</td>\n",
       "      <td>2019-10-01</td>\n",
       "      <td>1</td>\n",
       "      <td>0</td>\n",
       "      <td>0</td>\n",
       "      <td>936</td>\n",
       "      <td>0</td>\n",
       "      <td>1172</td>\n",
       "    </tr>\n",
       "    <tr>\n",
       "      <th>292</th>\n",
       "      <td>582997</td>\n",
       "      <td>80746</td>\n",
       "      <td>2019-10-01</td>\n",
       "      <td>2</td>\n",
       "      <td>0</td>\n",
       "      <td>5</td>\n",
       "      <td>159</td>\n",
       "      <td>0</td>\n",
       "      <td>916</td>\n",
       "    </tr>\n",
       "    <tr>\n",
       "      <th>293</th>\n",
       "      <td>811956</td>\n",
       "      <td>14354</td>\n",
       "      <td>2019-10-01</td>\n",
       "      <td>2</td>\n",
       "      <td>0</td>\n",
       "      <td>0</td>\n",
       "      <td>1362</td>\n",
       "      <td>0</td>\n",
       "      <td>866</td>\n",
       "    </tr>\n",
       "    <tr>\n",
       "      <th>298</th>\n",
       "      <td>844518</td>\n",
       "      <td>23083</td>\n",
       "      <td>2019-10-01</td>\n",
       "      <td>1</td>\n",
       "      <td>0</td>\n",
       "      <td>0</td>\n",
       "      <td>139</td>\n",
       "      <td>0</td>\n",
       "      <td>1113</td>\n",
       "    </tr>\n",
       "  </tbody>\n",
       "</table>\n",
       "</div>"
      ],
      "text/plain": [
       "    session_id customer_id login_date  session_projects_added  \\\n",
       "299     933954       38459 2019-10-01                       1   \n",
       "291     109787       43096 2019-10-01                       1   \n",
       "292     582997       80746 2019-10-01                       2   \n",
       "293     811956       14354 2019-10-01                       2   \n",
       "298     844518       23083 2019-10-01                       1   \n",
       "\n",
       "     session_likes_given  session_comments_given  inactive_duration  \\\n",
       "299                    0                       0                  0   \n",
       "291                    0                       0                936   \n",
       "292                    0                       5                159   \n",
       "293                    0                       0               1362   \n",
       "298                    0                       0                139   \n",
       "\n",
       "     bugs_in_session  session_duration  \n",
       "299                0               306  \n",
       "291                0              1172  \n",
       "292                0               916  \n",
       "293                0               866  \n",
       "298                0              1113  "
      ]
     },
     "execution_count": 28,
     "metadata": {},
     "output_type": "execute_result"
    }
   ],
   "source": [
    "#check my data once again\n",
    "showwcase_df.head()"
   ]
  },
  {
   "cell_type": "markdown",
   "metadata": {},
   "source": [
    "<hr>\n",
    "\n",
    "#### `1` Define\n",
    "Change the names of columns `inactive_duration` and `bugs_in_session` to be consistent with other columns's names<br>\n",
    "`inactive_duration`===> `session_inactive_duration`<br>\n",
    "`bugs_in_session` ====> `session_bugs_occured`<br>"
   ]
  },
  {
   "cell_type": "markdown",
   "metadata": {},
   "source": [
    "#### `2` Code\n"
   ]
  },
  {
   "cell_type": "code",
   "execution_count": 29,
   "metadata": {},
   "outputs": [],
   "source": [
    "showwcase_df = showwcase_df.rename(columns={'inactive_duration':'session_inactive_duration',\n",
    "                                            'bugs_in_session':'session_bugs_occured'})"
   ]
  },
  {
   "cell_type": "markdown",
   "metadata": {},
   "source": [
    "#### `3` Test\n"
   ]
  },
  {
   "cell_type": "code",
   "execution_count": 30,
   "metadata": {},
   "outputs": [
    {
     "data": {
      "text/plain": [
       "Index(['session_id', 'customer_id', 'login_date', 'session_projects_added',\n",
       "       'session_likes_given', 'session_comments_given',\n",
       "       'session_inactive_duration', 'session_bugs_occured',\n",
       "       'session_duration'],\n",
       "      dtype='object')"
      ]
     },
     "execution_count": 30,
     "metadata": {},
     "output_type": "execute_result"
    }
   ],
   "source": [
    "showwcase_df.columns"
   ]
  },
  {
   "cell_type": "markdown",
   "metadata": {},
   "source": [
    "<a id='store'></a>\n",
    "<hr>\n",
    "\n",
    "## Storing Data\n",
    "Storing clean data into csv file called: `showwcase_cleaned.csv`"
   ]
  },
  {
   "cell_type": "code",
   "execution_count": 31,
   "metadata": {},
   "outputs": [],
   "source": [
    "showwcase_df.to_csv('Data/showwcase_cleaned.csv', encoding='utf-8', index=False)"
   ]
  },
  {
   "cell_type": "markdown",
   "metadata": {},
   "source": [
    "<a id='Visual'></a>\n",
    "<hr>\n",
    "\n",
    "## Analyzing and Visualizing"
   ]
  },
  {
   "cell_type": "markdown",
   "metadata": {},
   "source": [
    "`1` Percentages of Activity Engagement?"
   ]
  },
  {
   "cell_type": "code",
   "execution_count": 32,
   "metadata": {},
   "outputs": [],
   "source": [
    "def center():\n",
    "    display(HTML(\"\"\"<style>.output {align-items: center;text-align: center;}</style>\"\"\"))"
   ]
  },
  {
   "cell_type": "code",
   "execution_count": 33,
   "metadata": {},
   "outputs": [],
   "source": [
    "showwcase_df['session_total_engagement'] = (showwcase_df['session_projects_added'] +\n",
    "                                            showwcase_df['session_likes_given'] +\n",
    "                                            showwcase_df['session_comments_given'])\n",
    "def calculate_percentage(df, numerator, denominator):\n",
    "    return df[numerator].sum()/df[denominator].sum()"
   ]
  },
  {
   "cell_type": "code",
   "execution_count": 34,
   "metadata": {},
   "outputs": [],
   "source": [
    "Project_percentage = calculate_percentage(showwcase_df,'session_projects_added','session_total_engagement')\n",
    "Likes_percentage = calculate_percentage(showwcase_df,'session_likes_given','session_total_engagement')\n",
    "Comments_percentage = calculate_percentage(showwcase_df,'session_comments_given','session_total_engagement')\n",
    "percentages=[Project_percentage, Likes_percentage, Comments_percentage]"
   ]
  },
  {
   "cell_type": "code",
   "execution_count": 35,
   "metadata": {},
   "outputs": [
    {
     "data": {
      "text/html": [
       "<style>.output {align-items: center;text-align: center;}</style>"
      ],
      "text/plain": [
       "<IPython.core.display.HTML object>"
      ]
     },
     "metadata": {},
     "output_type": "display_data"
    },
    {
     "data": {
      "image/png": "[encoded data removed]",
      "text/plain": [
       "<Figure size 720x360 with 1 Axes>"
      ]
     },
     "metadata": {},
     "output_type": "display_data"
    }
   ],
   "source": [
    "center()\n",
    "plt.figure(figsize=(10,5))\n",
    "labels = ['Projects', \n",
    "         'Likes',\n",
    "         'Comments']\n",
    "explode=(0.1,0, 0)\n",
    "colors = ( \"orange\", \"brown\", \"grey\")\n",
    "plt.pie(percentages,\n",
    "        labels = labels,\n",
    "       explode=explode,\n",
    "       colors=colors) \n",
    "plt.title(\"Activities in October 2019\")\n",
    "plt.show()"
   ]
  },
  {
   "cell_type": "markdown",
   "metadata": {},
   "source": [
    "`2` Top 10 Daily Active customers? <br>\n",
    "This's a measure of stickyness and returntion"
   ]
  },
  {
   "cell_type": "code",
   "execution_count": 36,
   "metadata": {},
   "outputs": [
    {
     "data": {
      "text/html": [
       "<style>.output {align-items: center;text-align: center;}</style>"
      ],
      "text/plain": [
       "<IPython.core.display.HTML object>"
      ]
     },
     "metadata": {},
     "output_type": "display_data"
    },
    {
     "data": {
      "image/png": "[encoded data removed]",
      "text/plain": [
       "<Figure size 720x360 with 1 Axes>"
      ]
     },
     "metadata": {
      "needs_background": "light"
     },
     "output_type": "display_data"
    }
   ],
   "source": [
    "center()\n",
    "plt.figure(figsize=(10,5))\n",
    "base_color = sns.color_palette()[9]\n",
    "top_DAU = (showwcase_df\n",
    "           .customer_id\n",
    "           .value_counts()[:10])\n",
    "\n",
    "sns.barplot(y=top_DAU.index,\n",
    "            x=top_DAU,\n",
    "            color=base_color, \n",
    "            orient='h',\n",
    "            order=top_DAU.index)\n",
    "plt.xlabel('Count of Sessions/customer')\n",
    "plt.ylabel('Customer ID')\n",
    "plt.title('Top 10 Daily Active customers of October 2019')\n",
    "sns.despine()"
   ]
  },
  {
   "cell_type": "markdown",
   "metadata": {},
   "source": [
    "`3` Who spend longest time in each session?"
   ]
  },
  {
   "cell_type": "code",
   "execution_count": 37,
   "metadata": {},
   "outputs": [
    {
     "data": {
      "text/html": [
       "<style>.output {align-items: center;text-align: center;}</style>"
      ],
      "text/plain": [
       "<IPython.core.display.HTML object>"
      ]
     },
     "metadata": {},
     "output_type": "display_data"
    },
    {
     "ename": "NameError",
     "evalue": "name 'top_longest_sessions_means' is not defined",
     "output_type": "error",
     "traceback": [
      "\u001b[0;31m---------------------------------------------------------------------------\u001b[0m",
      "\u001b[0;31mNameError\u001b[0m                                 Traceback (most recent call last)",
      "\u001b[0;32m<ipython-input-37-d3f257f91e2d>\u001b[0m in \u001b[0;36m<module>\u001b[0;34m\u001b[0m\n\u001b[1;32m      2\u001b[0m \u001b[0mplt\u001b[0m\u001b[0;34m.\u001b[0m\u001b[0mfigure\u001b[0m\u001b[0;34m(\u001b[0m\u001b[0mfigsize\u001b[0m\u001b[0;34m=\u001b[0m\u001b[0;34m(\u001b[0m\u001b[0;36m10\u001b[0m\u001b[0;34m,\u001b[0m\u001b[0;36m5\u001b[0m\u001b[0;34m)\u001b[0m\u001b[0;34m)\u001b[0m\u001b[0;34m\u001b[0m\u001b[0;34m\u001b[0m\u001b[0m\n\u001b[1;32m      3\u001b[0m \u001b[0mbase_color\u001b[0m \u001b[0;34m=\u001b[0m \u001b[0msns\u001b[0m\u001b[0;34m.\u001b[0m\u001b[0mcolor_palette\u001b[0m\u001b[0;34m(\u001b[0m\u001b[0;34m)\u001b[0m\u001b[0;34m[\u001b[0m\u001b[0;36m6\u001b[0m\u001b[0;34m]\u001b[0m\u001b[0;34m\u001b[0m\u001b[0;34m\u001b[0m\u001b[0m\n\u001b[0;32m----> 4\u001b[0;31m sns.barplot(x=top_longest_sessions_means['session_duration'],\n\u001b[0m\u001b[1;32m      5\u001b[0m             \u001b[0my\u001b[0m\u001b[0;34m=\u001b[0m\u001b[0mtop_longest_sessions_means\u001b[0m\u001b[0;34m.\u001b[0m\u001b[0mindex\u001b[0m\u001b[0;34m,\u001b[0m\u001b[0;34m\u001b[0m\u001b[0;34m\u001b[0m\u001b[0m\n\u001b[1;32m      6\u001b[0m             \u001b[0mcolor\u001b[0m\u001b[0;34m=\u001b[0m\u001b[0mbase_color\u001b[0m\u001b[0;34m,\u001b[0m\u001b[0;34m\u001b[0m\u001b[0;34m\u001b[0m\u001b[0m\n",
      "\u001b[0;31mNameError\u001b[0m: name 'top_longest_sessions_means' is not defined"
     ]
    },
    {
     "data": {
      "text/plain": [
       "<Figure size 720x360 with 0 Axes>"
      ]
     },
     "metadata": {},
     "output_type": "display_data"
    }
   ],
   "source": [
    "center()\n",
    "plt.figure(figsize=(10,5))\n",
    "base_color = sns.color_palette()[6]\n",
    "sns.barplot(x=top_longest_sessions_means['session_duration'],\n",
    "            y=top_longest_sessions_means.index,\n",
    "            color=base_color, \n",
    "            orient ='h',\n",
    "            order = top_longest_sessions_means.index)\n",
    "plt.xlabel(\"Average Sessions' lengths/customer\")\n",
    "plt.ylabel('Customer ID')\n",
    "plt.title('Top 10 Customers with longest average sessions\\' lengths in October 2019')\n",
    "sns.despine()"
   ]
  },
  {
   "cell_type": "markdown",
   "metadata": {},
   "source": [
    "`4` Who spend longest inactive time in each session?"
   ]
  },
  {
   "cell_type": "code",
   "execution_count": null,
   "metadata": {},
   "outputs": [],
   "source": [
    "center()\n",
    "plt.figure(figsize=(10,5))\n",
    "longest_inactive_sessions_means = (showwcase_df\n",
    "                                   .groupby(['customer_id'])\n",
    "                                   .mean()\n",
    "                                   .sort_values('session_inactive_duration', ascending=False)['session_inactive_duration'][:10])\n",
    "\n",
    "base_color = sns.color_palette()[8]\n",
    "sns.barplot(x=longest_inactive_sessions_means,\n",
    "            y=longest_inactive_sessions_means.index,\n",
    "            color=base_color, \n",
    "            orient='h',\n",
    "            order=longest_inactive_sessions_means.index)\n",
    "plt.xlabel(\"Average Inactive Sessions' lengths/customer\")\n",
    "plt.ylabel('Customer ID')\n",
    "plt.title('Top 10 Customers with longest avarage inactive sessions lengths in October 2019')\n",
    "sns.despine()"
   ]
  },
  {
   "cell_type": "markdown",
   "metadata": {},
   "source": [
    "`5` Top engaging customers<br>\n",
    "Given each activity a weight based on it's time consumption, as follows:<br>\n",
    "1. Project: takes 5 points\n",
    "2. Comment: takes 2 points\n",
    "3. Like: takes 1 point"
   ]
  },
  {
   "cell_type": "code",
   "execution_count": 38,
   "metadata": {},
   "outputs": [
    {
     "data": {
      "text/html": [
       "<style>.output {align-items: center;text-align: center;}</style>"
      ],
      "text/plain": [
       "<IPython.core.display.HTML object>"
      ]
     },
     "metadata": {},
     "output_type": "display_data"
    },
    {
     "data": {
      "image/png": "[encoded data removed]",
      "text/plain": [
       "<Figure size 720x360 with 1 Axes>"
      ]
     },
     "metadata": {
      "needs_background": "light"
     },
     "output_type": "display_data"
    }
   ],
   "source": [
    "center()\n",
    "plt.figure(figsize=(10,5))\n",
    "\n",
    "project_weight = 5\n",
    "comment_weight = 2\n",
    "like_weight = 1\n",
    "\n",
    "showwcase_df['session_total_engagement'] = ((showwcase_df['session_projects_added']*project_weight) +\n",
    "                                            (showwcase_df['session_comments_given']*comment_weight) + \n",
    "                                            (showwcase_df['session_likes_given']*like_weight))\n",
    "top_engaging_users = (showwcase_df\n",
    "                      .groupby(showwcase_df['customer_id'])\n",
    "                      .sum()\n",
    "                      .sort_values('session_total_engagement',ascending=False)['session_total_engagement'][:10])\n",
    "\n",
    "base_color = sns.color_palette()[9]\n",
    "sns.barplot(x=top_engaging_users,\n",
    "            y=top_engaging_users.index,\n",
    "            color=base_color, \n",
    "            orient ='h',\n",
    "            order = top_engaging_users.index)\n",
    "plt.xlabel(\"Total Engagement/customer\")\n",
    "plt.ylabel('Customer ID')\n",
    "plt.title('Top 10 Engaging Customers in October 2019')\n",
    "sns.despine()"
   ]
  },
  {
   "cell_type": "markdown",
   "metadata": {},
   "source": [
    "<h2>The platform has a champion!!🥇</h2> Customer with ID #29375 has been one of the top 10 active customers and one of the top 10 customers with longest avarage spending time in each session and one of the top 10 most engaging customers in October 2019<hr>"
   ]
  },
  {
   "cell_type": "markdown",
   "metadata": {},
   "source": [
    "Charts showing that the top 10 most engaging customers (adding projects, comments and likes) are also the same top 10 active daily users"
   ]
  },
  {
   "cell_type": "code",
   "execution_count": 39,
   "metadata": {},
   "outputs": [
    {
     "data": {
      "text/plain": [
       "array([ True,  True,  True,  True,  True,  True,  True,  True,  True,\n",
       "        True])"
      ]
     },
     "execution_count": 39,
     "metadata": {},
     "output_type": "execute_result"
    }
   ],
   "source": [
    "top_DAU.index.isin(top_engaging_users.index)"
   ]
  },
  {
   "cell_type": "markdown",
   "metadata": {},
   "source": [
    "`6` How do these top customer engage most with the platform?"
   ]
  },
  {
   "cell_type": "code",
   "execution_count": 40,
   "metadata": {},
   "outputs": [
    {
     "data": {
      "text/html": [
       "<style>.output {align-items: center;text-align: center;}</style>"
      ],
      "text/plain": [
       "<IPython.core.display.HTML object>"
      ]
     },
     "metadata": {},
     "output_type": "display_data"
    },
    {
     "data": {
      "text/plain": [
       "Text(0.5, 1.0, 'Top 10 Engaging Customers engaging with the platform in October 2019')"
      ]
     },
     "execution_count": 40,
     "metadata": {},
     "output_type": "execute_result"
    },
    {
     "data": {
      "image/png": "[encoded data removed]",
      "text/plain": [
       "<Figure size 720x360 with 1 Axes>"
      ]
     },
     "metadata": {
      "needs_background": "light"
     },
     "output_type": "display_data"
    }
   ],
   "source": [
    "center()\n",
    "plt.figure(figsize=(10,5))\n",
    "top_engaging_users = (showwcase_df\n",
    "                      .groupby(showwcase_df['customer_id'])\n",
    "                      .sum()\n",
    "                      .sort_values('session_total_engagement', ascending=False)[:10])\n",
    "Project_total = top_engaging_users['session_projects_added'].sum()\n",
    "Comments_total = top_engaging_users['session_comments_given'].sum()\n",
    "Likes_total = top_engaging_users['session_likes_given'].sum()\n",
    "totals=[Likes_total, Comments_total, Project_total]\n",
    "\n",
    "labels = ['Likes', 'Comments', 'Projects']\n",
    "base_color = sns.color_palette()[8]\n",
    "\n",
    "sns.barplot(x=labels,\n",
    "            y=totals,\n",
    "            color=base_color) \n",
    "\n",
    "plt.xlabel(\"Activities\")\n",
    "plt.ylabel('Number of activities')\n",
    "plt.title('Top 10 Engaging Customers engaging with the platform in October 2019')"
   ]
  },
  {
   "cell_type": "markdown",
   "metadata": {},
   "source": [
    "`7` How many sessions were there each day in October 2019?"
   ]
  },
  {
   "cell_type": "code",
   "execution_count": 41,
   "metadata": {},
   "outputs": [
    {
     "data": {
      "text/html": [
       "<style>.output {align-items: center;text-align: center;}</style>"
      ],
      "text/plain": [
       "<IPython.core.display.HTML object>"
      ]
     },
     "metadata": {},
     "output_type": "display_data"
    },
    {
     "data": {
      "image/png": "[encoded data removed]",
      "text/plain": [
       "<Figure size 720x360 with 1 Axes>"
      ]
     },
     "metadata": {
      "needs_background": "light"
     },
     "output_type": "display_data"
    }
   ],
   "source": [
    "center()\n",
    "plt.figure(figsize=(10,5))\n",
    "base_color = sns.color_palette()[4]\n",
    "most_common_login_dates = (showwcase_df\n",
    "                           .groupby('login_date')\n",
    "                           .count()\n",
    "                           .sort_values('session_id', ascending=False)['session_id'])\n",
    "sns.lineplot(data=showwcase_df,\n",
    "             x=most_common_login_dates.index,\n",
    "             y=most_common_login_dates.values,\n",
    "             color=base_color,\n",
    "             err_style=None)\n",
    "plt.xlabel(\"Date\")\n",
    "plt.ylabel(\"Number of sessions\")\n",
    "plt.title('Number of Daily Sessions in October 2019')\n",
    "sns.despine()"
   ]
  },
  {
   "cell_type": "markdown",
   "metadata": {},
   "source": [
    "`8` What was the number of projects added each day during the month October 2019?"
   ]
  },
  {
   "cell_type": "code",
   "execution_count": 42,
   "metadata": {},
   "outputs": [
    {
     "data": {
      "text/html": [
       "<style>.output {align-items: center;text-align: center;}</style>"
      ],
      "text/plain": [
       "<IPython.core.display.HTML object>"
      ]
     },
     "metadata": {},
     "output_type": "display_data"
    },
    {
     "data": {
      "image/png": "[encoded data removed]",
      "text/plain": [
       "<Figure size 720x360 with 1 Axes>"
      ]
     },
     "metadata": {
      "needs_background": "light"
     },
     "output_type": "display_data"
    }
   ],
   "source": [
    "center()\n",
    "plt.figure(figsize=(10,5))\n",
    "base_color = sns.color_palette()[4]\n",
    "projects_added_daily_sum = (showwcase_df\n",
    "                            .groupby('login_date')\n",
    "                            .sum()['session_projects_added'])\n",
    "sns.lineplot(data=showwcase_df,\n",
    "             x=projects_added_daily_sum.index,\n",
    "             y=projects_added_daily_sum.values,\n",
    "             color=base_color,\n",
    "             err_style=None)\n",
    "plt.xlabel(\"Date\")\n",
    "plt.ylabel(\"Number of projects added daily\")\n",
    "plt.title('Total of Projects added each day through the Month of October 2019')\n",
    "sns.despine()"
   ]
  },
  {
   "cell_type": "markdown",
   "metadata": {},
   "source": [
    "`9` What was the number of comments given each day during the month October 2019?"
   ]
  },
  {
   "cell_type": "code",
   "execution_count": 43,
   "metadata": {},
   "outputs": [
    {
     "data": {
      "text/html": [
       "<style>.output {align-items: center;text-align: center;}</style>"
      ],
      "text/plain": [
       "<IPython.core.display.HTML object>"
      ]
     },
     "metadata": {},
     "output_type": "display_data"
    },
    {
     "data": {
      "image/png": "[encoded data removed]",
      "text/plain": [
       "<Figure size 720x360 with 1 Axes>"
      ]
     },
     "metadata": {
      "needs_background": "light"
     },
     "output_type": "display_data"
    }
   ],
   "source": [
    "center()\n",
    "plt.figure(figsize=(10,5))\n",
    "base_color = sns.color_palette()[4]\n",
    "most_common_login_dates = (showwcase_df\n",
    "                           .groupby('login_date')\n",
    "                           .sum()['session_comments_given'])\n",
    "sns.lineplot(data=showwcase_df,\n",
    "             x=most_common_login_dates.index,\n",
    "             y=most_common_login_dates.values,\n",
    "             color=base_color,\n",
    "             err_style=None)\n",
    "plt.xlabel(\"Date\")\n",
    "plt.ylabel(\"Number of Daily Comments given\")\n",
    "plt.title('Daily Comments given in October 2019')\n",
    "sns.despine()"
   ]
  },
  {
   "cell_type": "markdown",
   "metadata": {},
   "source": [
    "`10` What was the number of likes given each day during the month October 2019?"
   ]
  },
  {
   "cell_type": "code",
   "execution_count": 44,
   "metadata": {},
   "outputs": [
    {
     "data": {
      "text/html": [
       "<style>.output {align-items: center;text-align: center;}</style>"
      ],
      "text/plain": [
       "<IPython.core.display.HTML object>"
      ]
     },
     "metadata": {},
     "output_type": "display_data"
    },
    {
     "data": {
      "image/png": "[encoded data removed]",
      "text/plain": [
       "<Figure size 720x360 with 1 Axes>"
      ]
     },
     "metadata": {
      "needs_background": "light"
     },
     "output_type": "display_data"
    }
   ],
   "source": [
    "center()\n",
    "plt.figure(figsize=(10,5))\n",
    "base_color = sns.color_palette()[4]\n",
    "most_common_login_dates = showwcase_df.groupby('login_date').sum()['session_likes_given']\n",
    "sns.lineplot(data=showwcase_df,\n",
    "             x=most_common_login_dates.index,\n",
    "             y=most_common_login_dates.values,\n",
    "             color=base_color,\n",
    "             err_style=None)\n",
    "plt.xlabel(\"Date\")\n",
    "plt.ylabel(\"Number of daily Likes given\")\n",
    "plt.title('Daily Likes given in October 2019')\n",
    "sns.despine()"
   ]
  },
  {
   "cell_type": "markdown",
   "metadata": {},
   "source": [
    "`11` How frequent was the Total Engagemnt throughout weekdays in October 2019?"
   ]
  },
  {
   "cell_type": "code",
   "execution_count": 45,
   "metadata": {},
   "outputs": [
    {
     "data": {
      "text/html": [
       "<style>.output {align-items: center;text-align: center;}</style>"
      ],
      "text/plain": [
       "<IPython.core.display.HTML object>"
      ]
     },
     "metadata": {},
     "output_type": "display_data"
    },
    {
     "ename": "KeyError",
     "evalue": "'total_engagement'",
     "output_type": "error",
     "traceback": [
      "\u001b[0;31m---------------------------------------------------------------------------\u001b[0m",
      "\u001b[0;31mKeyError\u001b[0m                                  Traceback (most recent call last)",
      "\u001b[0;32m<ipython-input-45-bb3dd43d253a>\u001b[0m in \u001b[0;36m<module>\u001b[0;34m\u001b[0m\n\u001b[1;32m      3\u001b[0m \u001b[0mbase_color\u001b[0m \u001b[0;34m=\u001b[0m \u001b[0msns\u001b[0m\u001b[0;34m.\u001b[0m\u001b[0mcolor_palette\u001b[0m\u001b[0;34m(\u001b[0m\u001b[0;34m)\u001b[0m\u001b[0;34m[\u001b[0m\u001b[0;36m9\u001b[0m\u001b[0;34m]\u001b[0m\u001b[0;34m\u001b[0m\u001b[0;34m\u001b[0m\u001b[0m\n\u001b[1;32m      4\u001b[0m \u001b[0mday_names\u001b[0m \u001b[0;34m=\u001b[0m \u001b[0;34m[\u001b[0m\u001b[0mcalendar\u001b[0m\u001b[0;34m.\u001b[0m\u001b[0mday_name\u001b[0m\u001b[0;34m[\u001b[0m\u001b[0mi\u001b[0m\u001b[0;34m]\u001b[0m \u001b[0;32mfor\u001b[0m \u001b[0mi\u001b[0m \u001b[0;32min\u001b[0m \u001b[0mrange\u001b[0m\u001b[0;34m(\u001b[0m\u001b[0;36m0\u001b[0m\u001b[0;34m,\u001b[0m\u001b[0;36m7\u001b[0m\u001b[0;34m)\u001b[0m\u001b[0;34m]\u001b[0m\u001b[0;34m\u001b[0m\u001b[0;34m\u001b[0m\u001b[0m\n\u001b[0;32m----> 5\u001b[0;31m most_common_total_engagemnt_days = (showwcase_df\n\u001b[0m\u001b[1;32m      6\u001b[0m                                     \u001b[0;34m.\u001b[0m\u001b[0mgroupby\u001b[0m\u001b[0;34m(\u001b[0m\u001b[0mshowwcase_df\u001b[0m\u001b[0;34m[\u001b[0m\u001b[0;34m'login_date'\u001b[0m\u001b[0;34m]\u001b[0m\u001b[0;34m.\u001b[0m\u001b[0mdt\u001b[0m\u001b[0;34m.\u001b[0m\u001b[0mweekday\u001b[0m\u001b[0;34m)\u001b[0m\u001b[0;34m\u001b[0m\u001b[0;34m\u001b[0m\u001b[0m\n\u001b[1;32m      7\u001b[0m                                     \u001b[0;34m.\u001b[0m\u001b[0msum\u001b[0m\u001b[0;34m(\u001b[0m\u001b[0;34m)\u001b[0m\u001b[0;34m\u001b[0m\u001b[0;34m\u001b[0m\u001b[0m\n",
      "\u001b[0;32m~/opt/anaconda3/lib/python3.8/site-packages/pandas/core/frame.py\u001b[0m in \u001b[0;36msort_values\u001b[0;34m(self, by, axis, ascending, inplace, kind, na_position, ignore_index)\u001b[0m\n\u001b[1;32m   4925\u001b[0m \u001b[0;34m\u001b[0m\u001b[0m\n\u001b[1;32m   4926\u001b[0m             \u001b[0mby\u001b[0m \u001b[0;34m=\u001b[0m \u001b[0mby\u001b[0m\u001b[0;34m[\u001b[0m\u001b[0;36m0\u001b[0m\u001b[0;34m]\u001b[0m\u001b[0;34m\u001b[0m\u001b[0;34m\u001b[0m\u001b[0m\n\u001b[0;32m-> 4927\u001b[0;31m             \u001b[0mk\u001b[0m \u001b[0;34m=\u001b[0m \u001b[0mself\u001b[0m\u001b[0;34m.\u001b[0m\u001b[0m_get_label_or_level_values\u001b[0m\u001b[0;34m(\u001b[0m\u001b[0mby\u001b[0m\u001b[0;34m,\u001b[0m \u001b[0maxis\u001b[0m\u001b[0;34m=\u001b[0m\u001b[0maxis\u001b[0m\u001b[0;34m)\u001b[0m\u001b[0;34m\u001b[0m\u001b[0;34m\u001b[0m\u001b[0m\n\u001b[0m\u001b[1;32m   4928\u001b[0m \u001b[0;34m\u001b[0m\u001b[0m\n\u001b[1;32m   4929\u001b[0m             \u001b[0;32mif\u001b[0m \u001b[0misinstance\u001b[0m\u001b[0;34m(\u001b[0m\u001b[0mascending\u001b[0m\u001b[0;34m,\u001b[0m \u001b[0;34m(\u001b[0m\u001b[0mtuple\u001b[0m\u001b[0;34m,\u001b[0m \u001b[0mlist\u001b[0m\u001b[0;34m)\u001b[0m\u001b[0;34m)\u001b[0m\u001b[0;34m:\u001b[0m\u001b[0;34m\u001b[0m\u001b[0;34m\u001b[0m\u001b[0m\n",
      "\u001b[0;32m~/opt/anaconda3/lib/python3.8/site-packages/pandas/core/generic.py\u001b[0m in \u001b[0;36m_get_label_or_level_values\u001b[0;34m(self, key, axis)\u001b[0m\n\u001b[1;32m   1690\u001b[0m             \u001b[0mvalues\u001b[0m \u001b[0;34m=\u001b[0m \u001b[0mself\u001b[0m\u001b[0;34m.\u001b[0m\u001b[0maxes\u001b[0m\u001b[0;34m[\u001b[0m\u001b[0maxis\u001b[0m\u001b[0;34m]\u001b[0m\u001b[0;34m.\u001b[0m\u001b[0mget_level_values\u001b[0m\u001b[0;34m(\u001b[0m\u001b[0mkey\u001b[0m\u001b[0;34m)\u001b[0m\u001b[0;34m.\u001b[0m\u001b[0m_values\u001b[0m\u001b[0;34m\u001b[0m\u001b[0;34m\u001b[0m\u001b[0m\n\u001b[1;32m   1691\u001b[0m         \u001b[0;32melse\u001b[0m\u001b[0;34m:\u001b[0m\u001b[0;34m\u001b[0m\u001b[0;34m\u001b[0m\u001b[0m\n\u001b[0;32m-> 1692\u001b[0;31m             \u001b[0;32mraise\u001b[0m \u001b[0mKeyError\u001b[0m\u001b[0;34m(\u001b[0m\u001b[0mkey\u001b[0m\u001b[0;34m)\u001b[0m\u001b[0;34m\u001b[0m\u001b[0;34m\u001b[0m\u001b[0m\n\u001b[0m\u001b[1;32m   1693\u001b[0m \u001b[0;34m\u001b[0m\u001b[0m\n\u001b[1;32m   1694\u001b[0m         \u001b[0;31m# Check for duplicates\u001b[0m\u001b[0;34m\u001b[0m\u001b[0;34m\u001b[0m\u001b[0;34m\u001b[0m\u001b[0m\n",
      "\u001b[0;31mKeyError\u001b[0m: 'total_engagement'"
     ]
    },
    {
     "data": {
      "text/plain": [
       "<Figure size 720x360 with 0 Axes>"
      ]
     },
     "metadata": {},
     "output_type": "display_data"
    }
   ],
   "source": [
    "center()\n",
    "plt.figure(figsize=(10,5))\n",
    "base_color = sns.color_palette()[9]\n",
    "day_names = [calendar.day_name[i] for i in range(0,7)]\n",
    "most_common_total_engagemnt_days = (showwcase_df\n",
    "                                    .groupby(showwcase_df['login_date'].dt.weekday)\n",
    "                                    .sum()\n",
    "                                    .sort_values('total_engagement', ascending=False)['session_total_engagement'])\n",
    "ax = sns.barplot(data=showwcase_df,\n",
    "             x=most_common_total_engagemnt_days.index,\n",
    "             y=most_common_total_engagemnt_days.values,\n",
    "             color=base_color)\n",
    "ax.set_xticklabels(day_names)\n",
    "plt.xlabel(\"Date\")\n",
    "plt.ylabel(\"Total Engagement\")\n",
    "plt.title('Total engagement given throughout the weekdays in October 2019')\n",
    "sns.despine()"
   ]
  },
  {
   "cell_type": "markdown",
   "metadata": {},
   "source": [
    "`12` How frequent were logins throughout weekdays during the month of October 2019?"
   ]
  },
  {
   "cell_type": "code",
   "execution_count": 46,
   "metadata": {},
   "outputs": [
    {
     "data": {
      "text/html": [
       "<style>.output {align-items: center;text-align: center;}</style>"
      ],
      "text/plain": [
       "<IPython.core.display.HTML object>"
      ]
     },
     "metadata": {},
     "output_type": "display_data"
    },
    {
     "data": {
      "image/png": "[encoded data removed]",
      "text/plain": [
       "<Figure size 720x360 with 1 Axes>"
      ]
     },
     "metadata": {
      "needs_background": "light"
     },
     "output_type": "display_data"
    }
   ],
   "source": [
    "center()\n",
    "plt.figure(figsize=(10,5))\n",
    "base_color = sns.color_palette()[9]\n",
    "day_names = [calendar.day_name[i] for i in range(0,7)]\n",
    "most_common_login_dates = (showwcase_df\n",
    "                           .groupby(showwcase_df['login_date'].dt.weekday)\n",
    "                           .count()\n",
    "                           .sort_values('session_id', ascending=False)['session_id'])\n",
    "ax = sns.barplot(data=showwcase_df,\n",
    "             x=most_common_login_dates.index,\n",
    "             y=most_common_login_dates.values,\n",
    "             color=base_color)\n",
    "ax.set_xticklabels(day_names)\n",
    "plt.xlabel(\"Date\")\n",
    "plt.ylabel(\"Number of Logins\")\n",
    "plt.title('Daily Logins through out weekdays in October 2019')\n",
    "sns.despine()"
   ]
  },
  {
   "cell_type": "markdown",
   "metadata": {},
   "source": [
    "`13` How frequent was adding projects during weekdays during October 2019?"
   ]
  },
  {
   "cell_type": "code",
   "execution_count": 47,
   "metadata": {},
   "outputs": [
    {
     "data": {
      "text/html": [
       "<style>.output {align-items: center;text-align: center;}</style>"
      ],
      "text/plain": [
       "<IPython.core.display.HTML object>"
      ]
     },
     "metadata": {},
     "output_type": "display_data"
    },
    {
     "data": {
      "image/png": "[encoded data removed]",
      "text/plain": [
       "<Figure size 720x360 with 1 Axes>"
      ]
     },
     "metadata": {
      "needs_background": "light"
     },
     "output_type": "display_data"
    }
   ],
   "source": [
    "center()\n",
    "plt.figure(figsize=(10,5))\n",
    "base_color = sns.color_palette()[9]\n",
    "day_names = [calendar.day_name[i] for i in range(0,7)]\n",
    "most_common_project_adding_days = (showwcase_df\n",
    "                                   .groupby(showwcase_df['login_date'].dt.weekday)\n",
    "                                   .sum()\n",
    "                                   .sort_values('session_projects_added', ascending=False)['session_projects_added'])\n",
    "ax = sns.barplot(data=showwcase_df,\n",
    "             x=most_common_project_adding_days.index,\n",
    "             y=most_common_project_adding_days.values,\n",
    "             color=base_color)\n",
    "ax.set_xticklabels(day_names)\n",
    "plt.xlabel(\"Date\")\n",
    "plt.ylabel(\"Number of projects added\")\n",
    "plt.title('Projects added throughout the weekdays in Octobor 2019')\n",
    "sns.despine()"
   ]
  },
  {
   "cell_type": "markdown",
   "metadata": {},
   "source": [
    "`14` How frequent is giving comments during the weekdays during October 2019?"
   ]
  },
  {
   "cell_type": "code",
   "execution_count": 48,
   "metadata": {},
   "outputs": [
    {
     "data": {
      "text/html": [
       "<style>.output {align-items: center;text-align: center;}</style>"
      ],
      "text/plain": [
       "<IPython.core.display.HTML object>"
      ]
     },
     "metadata": {},
     "output_type": "display_data"
    },
    {
     "data": {
      "image/png": "[encoded data removed]",
      "text/plain": [
       "<Figure size 720x360 with 1 Axes>"
      ]
     },
     "metadata": {
      "needs_background": "light"
     },
     "output_type": "display_data"
    }
   ],
   "source": [
    "center()\n",
    "plt.figure(figsize=(10,5))\n",
    "base_color = sns.color_palette()[9]\n",
    "day_names = [calendar.day_name[i] for i in range(0,7)]\n",
    "most_common_likes_given_days = (showwcase_df\n",
    "                                .groupby(showwcase_df['login_date'].dt.weekday)\n",
    "                                .sum()\n",
    "                                .sort_values('session_comments_given', ascending=False)['session_comments_given'])\n",
    "ax = sns.barplot(data=showwcase_df,\n",
    "             x=most_common_likes_given_days.index,\n",
    "             y=most_common_likes_given_days.values,\n",
    "             color=base_color)\n",
    "ax.set_xticklabels(day_names)\n",
    "plt.xlabel(\"Date\")\n",
    "plt.ylabel(\"Number of Comments given\")\n",
    "plt.title('Comments given throughout the weekdays in Octobor 2019')\n",
    "sns.despine()"
   ]
  },
  {
   "cell_type": "markdown",
   "metadata": {},
   "source": [
    "`15` How frequent was giving likes during the weekdays during October 2019?"
   ]
  },
  {
   "cell_type": "code",
   "execution_count": 49,
   "metadata": {},
   "outputs": [
    {
     "data": {
      "text/html": [
       "<style>.output {align-items: center;text-align: center;}</style>"
      ],
      "text/plain": [
       "<IPython.core.display.HTML object>"
      ]
     },
     "metadata": {},
     "output_type": "display_data"
    },
    {
     "data": {
      "image/png": "[encoded data removed]",
      "text/plain": [
       "<Figure size 720x360 with 1 Axes>"
      ]
     },
     "metadata": {
      "needs_background": "light"
     },
     "output_type": "display_data"
    }
   ],
   "source": [
    "center()\n",
    "plt.figure(figsize=(10,5))\n",
    "base_color = sns.color_palette()[9]\n",
    "day_names = [calendar.day_name[i] for i in range(0,7)]\n",
    "most_common_likes_given_days = (showwcase_df\n",
    "                                .groupby(showwcase_df['login_date'].dt.weekday)\n",
    "                                .sum()\n",
    "                                .sort_values('session_likes_given', ascending=False)['session_likes_given'])\n",
    "ax = sns.barplot(data=showwcase_df,\n",
    "             x=most_common_likes_given_days.index,\n",
    "             y=most_common_likes_given_days.values,\n",
    "             color=base_color)\n",
    "ax.set_xticklabels(day_names)\n",
    "plt.xlabel(\"Date\")\n",
    "plt.ylabel(\"Number of Likes given\")\n",
    "plt.title('Likes given throughout the weekdays in Octobor 2019')\n",
    "sns.despine()"
   ]
  },
  {
   "cell_type": "markdown",
   "metadata": {},
   "source": [
    "`16` How many bugs were there each day during October 2019?"
   ]
  },
  {
   "cell_type": "code",
   "execution_count": 50,
   "metadata": {},
   "outputs": [
    {
     "data": {
      "text/html": [
       "<style>.output {align-items: center;text-align: center;}</style>"
      ],
      "text/plain": [
       "<IPython.core.display.HTML object>"
      ]
     },
     "metadata": {},
     "output_type": "display_data"
    },
    {
     "data": {
      "image/png": "[encoded data removed]",
      "text/plain": [
       "<Figure size 720x360 with 1 Axes>"
      ]
     },
     "metadata": {
      "needs_background": "light"
     },
     "output_type": "display_data"
    }
   ],
   "source": [
    "center()\n",
    "plt.figure(figsize=(10,5))\n",
    "base_color = sns.color_palette()[3]\n",
    "bugs_days = showwcase_df.groupby('login_date').sum()['session_bugs_occured']\n",
    "sns.lineplot(data=showwcase_df,\n",
    "             x=bugs_days.index,\n",
    "             y=bugs_days.values,\n",
    "             color=base_color,\n",
    "             err_style=None)\n",
    "plt.xlabel(\"Date\")\n",
    "plt.ylabel(\"Number of Bugs\")\n",
    "plt.title('Daily Number of Bugs in October 2019')\n",
    "sns.despine()"
   ]
  },
  {
   "cell_type": "markdown",
   "metadata": {},
   "source": [
    "It's quite clear that the platform encountered the highest bugs on the 26th of October.\n",
    "The inconsistancy in row #35 we saw earlier when the session_likes_given=NaN is might be one of these bugs occured because it was also on the 26th October."
   ]
  },
  {
   "cell_type": "markdown",
   "metadata": {},
   "source": [
    "`17` How frequent bugs were there throughout weekdays during October 2019?"
   ]
  },
  {
   "cell_type": "code",
   "execution_count": 51,
   "metadata": {},
   "outputs": [
    {
     "data": {
      "text/html": [
       "<style>.output {align-items: center;text-align: center;}</style>"
      ],
      "text/plain": [
       "<IPython.core.display.HTML object>"
      ]
     },
     "metadata": {},
     "output_type": "display_data"
    },
    {
     "data": {
      "image/png": "[encoded data removed]",
      "text/plain": [
       "<Figure size 720x360 with 1 Axes>"
      ]
     },
     "metadata": {
      "needs_background": "light"
     },
     "output_type": "display_data"
    }
   ],
   "source": [
    "center()\n",
    "plt.figure(figsize=(10,5))\n",
    "base_color = sns.color_palette()[3]\n",
    "day_names = [calendar.day_name[i] for i in range(0,7)]\n",
    "most_common_bugs_occured_days = (showwcase_df\n",
    "                                 .groupby(showwcase_df['login_date'].dt.weekday)\n",
    "                                 .sum()\n",
    "                                 .sort_values('session_bugs_occured', ascending=False)['session_bugs_occured'])\n",
    "ax = sns.barplot(data=showwcase_df,\n",
    "             x=most_common_bugs_occured_days.index,\n",
    "             y=most_common_bugs_occured_days.values,\n",
    "             color=base_color)\n",
    "ax.set_xticklabels(day_names)\n",
    "plt.xlabel(\"Date\")\n",
    "plt.ylabel(\"Number of Bugs occured\")\n",
    "plt.title('Bugs occured throughout the weekdays in Octobor 2019')\n",
    "sns.despine()"
   ]
  },
  {
   "cell_type": "markdown",
   "metadata": {},
   "source": [
    "`18` How do users add their projects (1-2 per session, or >2 per session)?"
   ]
  },
  {
   "cell_type": "markdown",
   "metadata": {},
   "source": [
    "based on the fact that the mean time for the session is 3.29hours. I would assume that a normal person can write one new project or two at max in each session.\n",
    "It seems from looking at the data, that many users are adding more than 3 projects in each session.\n",
    "This may indicate that the users are not using the editor to write new projects but rather copy and paste older projects.\n",
    "More investegations can be done to look at this point"
   ]
  },
  {
   "cell_type": "code",
   "execution_count": 52,
   "metadata": {},
   "outputs": [
    {
     "data": {
      "text/html": [
       "<div>\n",
       "<style scoped>\n",
       "    .dataframe tbody tr th:only-of-type {\n",
       "        vertical-align: middle;\n",
       "    }\n",
       "\n",
       "    .dataframe tbody tr th {\n",
       "        vertical-align: top;\n",
       "    }\n",
       "\n",
       "    .dataframe thead th {\n",
       "        text-align: right;\n",
       "    }\n",
       "</style>\n",
       "<table border=\"1\" class=\"dataframe\">\n",
       "  <thead>\n",
       "    <tr style=\"text-align: right;\">\n",
       "      <th></th>\n",
       "      <th></th>\n",
       "      <th>session_projects_added</th>\n",
       "      <th>session_likes_given</th>\n",
       "      <th>session_comments_given</th>\n",
       "      <th>session_inactive_duration</th>\n",
       "      <th>session_bugs_occured</th>\n",
       "      <th>session_duration</th>\n",
       "      <th>session_total_engagement</th>\n",
       "    </tr>\n",
       "    <tr>\n",
       "      <th>customer_id</th>\n",
       "      <th>login_date</th>\n",
       "      <th></th>\n",
       "      <th></th>\n",
       "      <th></th>\n",
       "      <th></th>\n",
       "      <th></th>\n",
       "      <th></th>\n",
       "      <th></th>\n",
       "    </tr>\n",
       "  </thead>\n",
       "  <tbody>\n",
       "    <tr>\n",
       "      <th rowspan=\"3\" valign=\"top\">10246</th>\n",
       "      <th>2019-10-06</th>\n",
       "      <td>3</td>\n",
       "      <td>16</td>\n",
       "      <td>3</td>\n",
       "      <td>315</td>\n",
       "      <td>2</td>\n",
       "      <td>389</td>\n",
       "      <td>37</td>\n",
       "    </tr>\n",
       "    <tr>\n",
       "      <th>2019-10-15</th>\n",
       "      <td>0</td>\n",
       "      <td>14</td>\n",
       "      <td>0</td>\n",
       "      <td>0</td>\n",
       "      <td>0</td>\n",
       "      <td>2075</td>\n",
       "      <td>14</td>\n",
       "    </tr>\n",
       "    <tr>\n",
       "      <th>2019-10-21</th>\n",
       "      <td>5</td>\n",
       "      <td>23</td>\n",
       "      <td>0</td>\n",
       "      <td>2120</td>\n",
       "      <td>7</td>\n",
       "      <td>399</td>\n",
       "      <td>48</td>\n",
       "    </tr>\n",
       "    <tr>\n",
       "      <th rowspan=\"2\" valign=\"top\">12407</th>\n",
       "      <th>2019-10-02</th>\n",
       "      <td>3</td>\n",
       "      <td>0</td>\n",
       "      <td>0</td>\n",
       "      <td>1749</td>\n",
       "      <td>0</td>\n",
       "      <td>464</td>\n",
       "      <td>15</td>\n",
       "    </tr>\n",
       "    <tr>\n",
       "      <th>2019-10-17</th>\n",
       "      <td>2</td>\n",
       "      <td>22</td>\n",
       "      <td>5</td>\n",
       "      <td>0</td>\n",
       "      <td>0</td>\n",
       "      <td>2060</td>\n",
       "      <td>42</td>\n",
       "    </tr>\n",
       "    <tr>\n",
       "      <th>...</th>\n",
       "      <th>...</th>\n",
       "      <td>...</td>\n",
       "      <td>...</td>\n",
       "      <td>...</td>\n",
       "      <td>...</td>\n",
       "      <td>...</td>\n",
       "      <td>...</td>\n",
       "      <td>...</td>\n",
       "    </tr>\n",
       "    <tr>\n",
       "      <th rowspan=\"5\" valign=\"top\">98653</th>\n",
       "      <th>2019-10-15</th>\n",
       "      <td>3</td>\n",
       "      <td>0</td>\n",
       "      <td>0</td>\n",
       "      <td>2350</td>\n",
       "      <td>3</td>\n",
       "      <td>272</td>\n",
       "      <td>15</td>\n",
       "    </tr>\n",
       "    <tr>\n",
       "      <th>2019-10-20</th>\n",
       "      <td>1</td>\n",
       "      <td>2</td>\n",
       "      <td>4</td>\n",
       "      <td>0</td>\n",
       "      <td>0</td>\n",
       "      <td>55</td>\n",
       "      <td>15</td>\n",
       "    </tr>\n",
       "    <tr>\n",
       "      <th>2019-10-21</th>\n",
       "      <td>4</td>\n",
       "      <td>0</td>\n",
       "      <td>5</td>\n",
       "      <td>1289</td>\n",
       "      <td>2</td>\n",
       "      <td>857</td>\n",
       "      <td>30</td>\n",
       "    </tr>\n",
       "    <tr>\n",
       "      <th>2019-10-25</th>\n",
       "      <td>2</td>\n",
       "      <td>18</td>\n",
       "      <td>0</td>\n",
       "      <td>0</td>\n",
       "      <td>0</td>\n",
       "      <td>1152</td>\n",
       "      <td>28</td>\n",
       "    </tr>\n",
       "    <tr>\n",
       "      <th>2019-10-29</th>\n",
       "      <td>0</td>\n",
       "      <td>0</td>\n",
       "      <td>1</td>\n",
       "      <td>930</td>\n",
       "      <td>0</td>\n",
       "      <td>1374</td>\n",
       "      <td>2</td>\n",
       "    </tr>\n",
       "  </tbody>\n",
       "</table>\n",
       "<p>260 rows × 7 columns</p>\n",
       "</div>"
      ],
      "text/plain": [
       "                        session_projects_added  session_likes_given  \\\n",
       "customer_id login_date                                                \n",
       "10246       2019-10-06                       3                   16   \n",
       "            2019-10-15                       0                   14   \n",
       "            2019-10-21                       5                   23   \n",
       "12407       2019-10-02                       3                    0   \n",
       "            2019-10-17                       2                   22   \n",
       "...                                        ...                  ...   \n",
       "98653       2019-10-15                       3                    0   \n",
       "            2019-10-20                       1                    2   \n",
       "            2019-10-21                       4                    0   \n",
       "            2019-10-25                       2                   18   \n",
       "            2019-10-29                       0                    0   \n",
       "\n",
       "                        session_comments_given  session_inactive_duration  \\\n",
       "customer_id login_date                                                      \n",
       "10246       2019-10-06                       3                        315   \n",
       "            2019-10-15                       0                          0   \n",
       "            2019-10-21                       0                       2120   \n",
       "12407       2019-10-02                       0                       1749   \n",
       "            2019-10-17                       5                          0   \n",
       "...                                        ...                        ...   \n",
       "98653       2019-10-15                       0                       2350   \n",
       "            2019-10-20                       4                          0   \n",
       "            2019-10-21                       5                       1289   \n",
       "            2019-10-25                       0                          0   \n",
       "            2019-10-29                       1                        930   \n",
       "\n",
       "                        session_bugs_occured  session_duration  \\\n",
       "customer_id login_date                                           \n",
       "10246       2019-10-06                     2               389   \n",
       "            2019-10-15                     0              2075   \n",
       "            2019-10-21                     7               399   \n",
       "12407       2019-10-02                     0               464   \n",
       "            2019-10-17                     0              2060   \n",
       "...                                      ...               ...   \n",
       "98653       2019-10-15                     3               272   \n",
       "            2019-10-20                     0                55   \n",
       "            2019-10-21                     2               857   \n",
       "            2019-10-25                     0              1152   \n",
       "            2019-10-29                     0              1374   \n",
       "\n",
       "                        session_total_engagement  \n",
       "customer_id login_date                            \n",
       "10246       2019-10-06                        37  \n",
       "            2019-10-15                        14  \n",
       "            2019-10-21                        48  \n",
       "12407       2019-10-02                        15  \n",
       "            2019-10-17                        42  \n",
       "...                                          ...  \n",
       "98653       2019-10-15                        15  \n",
       "            2019-10-20                        15  \n",
       "            2019-10-21                        30  \n",
       "            2019-10-25                        28  \n",
       "            2019-10-29                         2  \n",
       "\n",
       "[260 rows x 7 columns]"
      ]
     },
     "execution_count": 52,
     "metadata": {},
     "output_type": "execute_result"
    }
   ],
   "source": [
    "showwcase_df.groupby(['customer_id','login_date']).sum()"
   ]
  }
 ],
 "metadata": {
  "kernelspec": {
   "display_name": "Python 3",
   "language": "python",
   "name": "python3"
  },
  "language_info": {
   "codemirror_mode": {
    "name": "ipython",
    "version": 3
   },
   "file_extension": ".py",
   "mimetype": "text/x-python",
   "name": "python",
   "nbconvert_exporter": "python",
   "pygments_lexer": "ipython3",
   "version": "3.8.3"
  }
 },
 "nbformat": 4,
 "nbformat_minor": 4
}
